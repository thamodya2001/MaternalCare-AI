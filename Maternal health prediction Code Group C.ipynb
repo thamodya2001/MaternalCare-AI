{
  "cells": [
    {
      "cell_type": "code",
      "execution_count": null,
      "metadata": {
        "colab": {
          "base_uri": "https://localhost:8080/",
          "height": 206
        },
        "id": "Oki7izzoN3KC",
        "outputId": "3bf9e9f4-3f16-4ed0-af6f-812f07d5bd54"
      },
      "outputs": [
        {
          "data": {
            "text/html": [
              "<div>\n",
              "<style scoped>\n",
              "    .dataframe tbody tr th:only-of-type {\n",
              "        vertical-align: middle;\n",
              "    }\n",
              "\n",
              "    .dataframe tbody tr th {\n",
              "        vertical-align: top;\n",
              "    }\n",
              "\n",
              "    .dataframe thead th {\n",
              "        text-align: right;\n",
              "    }\n",
              "</style>\n",
              "<table border=\"1\" class=\"dataframe\">\n",
              "  <thead>\n",
              "    <tr style=\"text-align: right;\">\n",
              "      <th></th>\n",
              "      <th>Age</th>\n",
              "      <th>Systolic BP</th>\n",
              "      <th>Diastolic</th>\n",
              "      <th>BS</th>\n",
              "      <th>Body Temp</th>\n",
              "      <th>BMI</th>\n",
              "      <th>Previous Complications</th>\n",
              "      <th>Preexisting Diabetes</th>\n",
              "      <th>Gestational Diabetes</th>\n",
              "      <th>Mental Health</th>\n",
              "      <th>Heart Rate</th>\n",
              "      <th>Risk Level</th>\n",
              "    </tr>\n",
              "  </thead>\n",
              "  <tbody>\n",
              "    <tr>\n",
              "      <th>0</th>\n",
              "      <td>22</td>\n",
              "      <td>90.0</td>\n",
              "      <td>60.0</td>\n",
              "      <td>9.0</td>\n",
              "      <td>100</td>\n",
              "      <td>18.0</td>\n",
              "      <td>1.0</td>\n",
              "      <td>1.0</td>\n",
              "      <td>0</td>\n",
              "      <td>1</td>\n",
              "      <td>80.0</td>\n",
              "      <td>High</td>\n",
              "    </tr>\n",
              "    <tr>\n",
              "      <th>1</th>\n",
              "      <td>22</td>\n",
              "      <td>110.0</td>\n",
              "      <td>70.0</td>\n",
              "      <td>7.1</td>\n",
              "      <td>98</td>\n",
              "      <td>20.4</td>\n",
              "      <td>0.0</td>\n",
              "      <td>0.0</td>\n",
              "      <td>0</td>\n",
              "      <td>0</td>\n",
              "      <td>74.0</td>\n",
              "      <td>Low</td>\n",
              "    </tr>\n",
              "    <tr>\n",
              "      <th>2</th>\n",
              "      <td>27</td>\n",
              "      <td>110.0</td>\n",
              "      <td>70.0</td>\n",
              "      <td>7.5</td>\n",
              "      <td>98</td>\n",
              "      <td>23.0</td>\n",
              "      <td>1.0</td>\n",
              "      <td>0.0</td>\n",
              "      <td>0</td>\n",
              "      <td>0</td>\n",
              "      <td>72.0</td>\n",
              "      <td>Low</td>\n",
              "    </tr>\n",
              "    <tr>\n",
              "      <th>3</th>\n",
              "      <td>20</td>\n",
              "      <td>100.0</td>\n",
              "      <td>70.0</td>\n",
              "      <td>7.2</td>\n",
              "      <td>98</td>\n",
              "      <td>21.2</td>\n",
              "      <td>0.0</td>\n",
              "      <td>0.0</td>\n",
              "      <td>0</td>\n",
              "      <td>0</td>\n",
              "      <td>74.0</td>\n",
              "      <td>Low</td>\n",
              "    </tr>\n",
              "    <tr>\n",
              "      <th>4</th>\n",
              "      <td>20</td>\n",
              "      <td>90.0</td>\n",
              "      <td>60.0</td>\n",
              "      <td>7.5</td>\n",
              "      <td>98</td>\n",
              "      <td>19.7</td>\n",
              "      <td>0.0</td>\n",
              "      <td>0.0</td>\n",
              "      <td>0</td>\n",
              "      <td>0</td>\n",
              "      <td>74.0</td>\n",
              "      <td>Low</td>\n",
              "    </tr>\n",
              "  </tbody>\n",
              "</table>\n",
              "</div>"
            ],
            "text/plain": [
              "   Age  Systolic BP  Diastolic   BS  Body Temp   BMI  Previous Complications  \\\n",
              "0   22         90.0       60.0  9.0        100  18.0                     1.0   \n",
              "1   22        110.0       70.0  7.1         98  20.4                     0.0   \n",
              "2   27        110.0       70.0  7.5         98  23.0                     1.0   \n",
              "3   20        100.0       70.0  7.2         98  21.2                     0.0   \n",
              "4   20         90.0       60.0  7.5         98  19.7                     0.0   \n",
              "\n",
              "   Preexisting Diabetes  Gestational Diabetes  Mental Health  Heart Rate  \\\n",
              "0                   1.0                     0              1        80.0   \n",
              "1                   0.0                     0              0        74.0   \n",
              "2                   0.0                     0              0        72.0   \n",
              "3                   0.0                     0              0        74.0   \n",
              "4                   0.0                     0              0        74.0   \n",
              "\n",
              "  Risk Level  \n",
              "0       High  \n",
              "1        Low  \n",
              "2        Low  \n",
              "3        Low  \n",
              "4        Low  "
            ]
          },
          "execution_count": 45,
          "metadata": {},
          "output_type": "execute_result"
        }
      ],
      "source": [
        "import pandas as pd\n",
        "df = pd.read_csv('maternaldata.csv')\n",
        "df.head()"
      ]
    },
    {
      "cell_type": "code",
      "execution_count": 46,
      "metadata": {
        "colab": {
          "base_uri": "https://localhost:8080/"
        },
        "id": "Lnzb8OvxPf4p",
        "outputId": "5a25eee4-a77b-4c83-8673-8e07866d9df6"
      },
      "outputs": [
        {
          "data": {
            "text/plain": [
              "(1205, 12)"
            ]
          },
          "execution_count": 46,
          "metadata": {},
          "output_type": "execute_result"
        }
      ],
      "source": [
        "df.shape"
      ]
    },
    {
      "cell_type": "code",
      "execution_count": 47,
      "metadata": {
        "colab": {
          "base_uri": "https://localhost:8080/"
        },
        "id": "egCmFMjhPTBD",
        "outputId": "8b88b940-922c-4b97-bd68-5eff0bb1128a"
      },
      "outputs": [
        {
          "data": {
            "text/plain": [
              "(1187, 12)"
            ]
          },
          "execution_count": 47,
          "metadata": {},
          "output_type": "execute_result"
        }
      ],
      "source": [
        "df = df.drop_duplicates()\n",
        "df.shape"
      ]
    },
    {
      "cell_type": "markdown",
      "metadata": {
        "id": "KbSJCOxhPwMJ"
      },
      "source": [
        "No of duplicate rows =18 , duplicate rows are ommited"
      ]
    },
    {
      "cell_type": "code",
      "execution_count": 48,
      "metadata": {
        "colab": {
          "base_uri": "https://localhost:8080/",
          "height": 460
        },
        "id": "sQHBF4WUO9Ny",
        "outputId": "560fa323-30ea-4546-841f-e2ba53b9e5eb"
      },
      "outputs": [
        {
          "data": {
            "text/plain": [
              "Age                        0\n",
              "Systolic BP                5\n",
              "Diastolic                  4\n",
              "BS                         2\n",
              "Body Temp                  0\n",
              "BMI                       18\n",
              "Previous Complications     2\n",
              "Preexisting Diabetes       2\n",
              "Gestational Diabetes       0\n",
              "Mental Health              0\n",
              "Heart Rate                 2\n",
              "Risk Level                18\n",
              "dtype: int64"
            ]
          },
          "execution_count": 48,
          "metadata": {},
          "output_type": "execute_result"
        }
      ],
      "source": [
        "df.isnull().sum()"
      ]
    },
    {
      "cell_type": "code",
      "execution_count": 49,
      "metadata": {
        "colab": {
          "base_uri": "https://localhost:8080/"
        },
        "id": "iOzRL01WQ4ap",
        "outputId": "ae5eba7b-404c-44dd-c6b3-efbb3d7f0321"
      },
      "outputs": [
        {
          "data": {
            "text/plain": [
              "0.015164279696714406"
            ]
          },
          "execution_count": 49,
          "metadata": {},
          "output_type": "execute_result"
        }
      ],
      "source": [
        "18/1187"
      ]
    },
    {
      "cell_type": "markdown",
      "metadata": {
        "id": "I6UM04gcQjX7"
      },
      "source": [
        "we have missing data on response variable, for better modelling decided to remove those rows to get unbiased results.<br>\n",
        "only 18 out of 1187 ----> 1.5%"
      ]
    },
    {
      "cell_type": "code",
      "execution_count": 50,
      "metadata": {
        "colab": {
          "base_uri": "https://localhost:8080/"
        },
        "id": "a980a1ce",
        "outputId": "bb99b702-1869-4c53-de67-0b4b1de77264"
      },
      "outputs": [
        {
          "data": {
            "text/plain": [
              "(1169, 12)"
            ]
          },
          "execution_count": 50,
          "metadata": {},
          "output_type": "execute_result"
        }
      ],
      "source": [
        "df.dropna(subset=['Risk Level'], inplace=True)\n",
        "df.shape"
      ]
    },
    {
      "cell_type": "code",
      "execution_count": 51,
      "metadata": {
        "colab": {
          "base_uri": "https://localhost:8080/",
          "height": 460
        },
        "id": "13_QpeSVRsyr",
        "outputId": "947e11e5-020f-4812-a076-7101561ab6c4"
      },
      "outputs": [
        {
          "data": {
            "text/plain": [
              "Age                        0\n",
              "Systolic BP                4\n",
              "Diastolic                  2\n",
              "BS                         1\n",
              "Body Temp                  0\n",
              "BMI                       14\n",
              "Previous Complications     1\n",
              "Preexisting Diabetes       1\n",
              "Gestational Diabetes       0\n",
              "Mental Health              0\n",
              "Heart Rate                 1\n",
              "Risk Level                 0\n",
              "dtype: int64"
            ]
          },
          "execution_count": 51,
          "metadata": {},
          "output_type": "execute_result"
        }
      ],
      "source": [
        "df.isnull().sum()"
      ]
    },
    {
      "cell_type": "code",
      "execution_count": 52,
      "metadata": {
        "colab": {
          "base_uri": "https://localhost:8080/",
          "height": 460
        },
        "id": "dMB6gCyXRywn",
        "outputId": "8d2967cf-ed20-4985-80fa-800d1a99ce53"
      },
      "outputs": [
        {
          "data": {
            "text/plain": [
              "Age                         int64\n",
              "Systolic BP               float64\n",
              "Diastolic                 float64\n",
              "BS                        float64\n",
              "Body Temp                   int64\n",
              "BMI                       float64\n",
              "Previous Complications    float64\n",
              "Preexisting Diabetes      float64\n",
              "Gestational Diabetes        int64\n",
              "Mental Health               int64\n",
              "Heart Rate                float64\n",
              "Risk Level                 object\n",
              "dtype: object"
            ]
          },
          "execution_count": 52,
          "metadata": {},
          "output_type": "execute_result"
        }
      ],
      "source": [
        "df.dtypes"
      ]
    },
    {
      "cell_type": "markdown",
      "metadata": {
        "id": "AwSumyKaVgCm"
      },
      "source": [
        "### Train Test Splitting"
      ]
    },
    {
      "cell_type": "code",
      "execution_count": 53,
      "metadata": {
        "id": "IbwSTwz6Vfdo"
      },
      "outputs": [],
      "source": [
        "\n",
        "from sklearn.model_selection import train_test_split\n",
        "X_train, X_test, y_train, y_test = train_test_split(df.drop('Risk Level', axis=1), df['Risk Level'], test_size=0.2, random_state=42)"
      ]
    },
    {
      "cell_type": "markdown",
      "metadata": {
        "id": "3c7BjM5EV8pP"
      },
      "source": [
        "### Preprocessing of X_train"
      ]
    },
    {
      "cell_type": "code",
      "execution_count": 54,
      "metadata": {
        "colab": {
          "base_uri": "https://localhost:8080/",
          "height": 429
        },
        "id": "L6cE6CuxWHBw",
        "outputId": "1e1f6449-f421-4d25-8501-fd94b268718b"
      },
      "outputs": [
        {
          "data": {
            "text/plain": [
              "Age                        0\n",
              "Systolic BP                4\n",
              "Diastolic                  2\n",
              "BS                         1\n",
              "Body Temp                  0\n",
              "BMI                       11\n",
              "Previous Complications     1\n",
              "Preexisting Diabetes       1\n",
              "Gestational Diabetes       0\n",
              "Mental Health              0\n",
              "Heart Rate                 1\n",
              "dtype: int64"
            ]
          },
          "execution_count": 54,
          "metadata": {},
          "output_type": "execute_result"
        }
      ],
      "source": [
        "X_train.isnull().sum()"
      ]
    },
    {
      "cell_type": "code",
      "execution_count": 55,
      "metadata": {
        "colab": {
          "base_uri": "https://localhost:8080/",
          "height": 1000
        },
        "id": "AQsKARrTR6-F",
        "outputId": "bc16d0a3-651d-4628-f564-c998ee04913f"
      },
      "outputs": [
        {
          "data": {
            "image/png": "[encoded data removed]",
            "text/plain": [
              "<Figure size 640x480 with 1 Axes>"
            ]
          },
          "metadata": {},
          "output_type": "display_data"
        },
        {
          "data": {
            "image/png": "[encoded data removed]",
            "text/plain": [
              "<Figure size 640x480 with 1 Axes>"
            ]
          },
          "metadata": {},
          "output_type": "display_data"
        },
        {
          "data": {
            "image/png": "[encoded data removed]",
            "text/plain": [
              "<Figure size 640x480 with 1 Axes>"
            ]
          },
          "metadata": {},
          "output_type": "display_data"
        },
        {
          "data": {
            "image/png": "[encoded data removed]",
            "text/plain": [
              "<Figure size 640x480 with 1 Axes>"
            ]
          },
          "metadata": {},
          "output_type": "display_data"
        },
        {
          "data": {
            "image/png": "[encoded data removed]",
            "text/plain": [
              "<Figure size 640x480 with 1 Axes>"
            ]
          },
          "metadata": {},
          "output_type": "display_data"
        }
      ],
      "source": [
        "import matplotlib.pyplot as plt\n",
        "import seaborn as sns\n",
        "\n",
        "cols=['Systolic BP','Diastolic','BS','BMI','Heart Rate']\n",
        "for i in cols:\n",
        "  sns.histplot(X_train[i],kde=True)\n",
        "  plt.xlabel(i)\n",
        "  plt.title(f\"Distribution of {i}\")\n",
        "  plt.ylabel(\"frequency\")\n",
        "  plt.show()"
      ]
    },
    {
      "cell_type": "code",
      "execution_count": 56,
      "metadata": {
        "colab": {
          "base_uri": "https://localhost:8080/"
        },
        "id": "JSQ4cDXYVZ9T",
        "outputId": "5d26b8f4-928b-4dbb-af3d-ca310f4927a8"
      },
      "outputs": [
        {
          "name": "stdout",
          "output_type": "stream",
          "text": [
            "Previous Complications\n",
            "0.0    959\n",
            "1.0    209\n",
            "Name: count, dtype: int64\n",
            "Preexisting Diabetes\n",
            "0.0    825\n",
            "1.0    343\n",
            "Name: count, dtype: int64\n"
          ]
        }
      ],
      "source": [
        "print(df['Previous Complications'].value_counts())\n",
        "print(df['Preexisting Diabetes'].value_counts())"
      ]
    },
    {
      "cell_type": "code",
      "execution_count": 57,
      "metadata": {
        "id": "5jHv5ffjW5Gc"
      },
      "outputs": [],
      "source": [
        "cols_to_fill = ['Systolic BP','Diastolic','BS','BMI','Heart Rate']\n",
        "for col in cols_to_fill:\n",
        "  X_train[col] = X_train[col].fillna(X_train[col].median())\n",
        "\n",
        "\n"
      ]
    },
    {
      "cell_type": "code",
      "execution_count": 58,
      "metadata": {
        "colab": {
          "base_uri": "https://localhost:8080/"
        },
        "id": "KAfWSuXyYgFc",
        "outputId": "f098dae3-7837-4956-b149-c017111fdc0b"
      },
      "outputs": [
        {
          "name": "stdout",
          "output_type": "stream",
          "text": [
            "Missing values in X_train after imputation:\n",
            "Age                       0\n",
            "Systolic BP               0\n",
            "Diastolic                 0\n",
            "BS                        0\n",
            "Body Temp                 0\n",
            "BMI                       0\n",
            "Previous Complications    0\n",
            "Preexisting Diabetes      0\n",
            "Gestational Diabetes      0\n",
            "Mental Health             0\n",
            "Heart Rate                0\n",
            "dtype: int64\n"
          ]
        }
      ],
      "source": [
        "X_train['Preexisting Diabetes'] = X_train['Preexisting Diabetes'].fillna(X_train['Preexisting Diabetes'].mode()[0])\n",
        "X_train['Previous Complications'] = X_train['Previous Complications'].fillna(X_train['Previous Complications'].mode()[0])\n",
        "\n",
        "print(\"Missing values in X_train after imputation:\")\n",
        "print(X_train.isnull().sum())"
      ]
    },
    {
      "cell_type": "code",
      "execution_count": 59,
      "metadata": {
        "colab": {
          "base_uri": "https://localhost:8080/",
          "height": 515
        },
        "id": "ABMf_B2oYgCA",
        "outputId": "61acaad0-6711-4311-9011-75dcf1998e10"
      },
      "outputs": [
        {
          "data": {
            "image/png": "[encoded data removed]",
            "text/plain": [
              "<Figure size 640x480 with 2 Axes>"
            ]
          },
          "metadata": {},
          "output_type": "display_data"
        }
      ],
      "source": [
        "num_cols = ['Age','Systolic BP','Diastolic','BS','Body Temp','BMI','Heart Rate']\n",
        "X_train1 = X_train[num_cols]\n",
        "sns.heatmap(X_train1.corr(), annot=True, cmap='coolwarm')\n",
        "plt.title('Correlation Heatmap')\n",
        "plt.show()"
      ]
    },
    {
      "cell_type": "markdown",
      "metadata": {
        "id": "w5YMlrYCbYS5"
      },
      "source": [
        "outlier detection in numerical predictors"
      ]
    },
    {
      "cell_type": "code",
      "execution_count": 60,
      "metadata": {
        "colab": {
          "base_uri": "https://localhost:8080/"
        },
        "id": "U4_oUimVbXr2",
        "outputId": "2df1f0b0-1719-4e0d-94fa-51606087ceab"
      },
      "outputs": [
        {
          "name": "stdout",
          "output_type": "stream",
          "text": [
            "Age             50\n",
            "Systolic BP      7\n",
            "Diastolic        1\n",
            "BS              94\n",
            "Body Temp      138\n",
            "BMI             30\n",
            "Heart Rate       0\n",
            "Name: n_outliers_iqr, dtype: int64\n"
          ]
        }
      ],
      "source": [
        "import numpy as np\n",
        "\n",
        "def count_outliers_iqr(df, factor=1.5):\n",
        "    \"\"\"\n",
        "    Returns a Series of outlier counts per numeric feature using IQR method.\n",
        "    \"\"\"\n",
        "    numeric = df.select_dtypes(include=[np.number])\n",
        "    counts = {}\n",
        "    for col in numeric:\n",
        "        Q1 = numeric[col].quantile(0.25)\n",
        "        Q3 = numeric[col].quantile(0.75)\n",
        "        IQR = Q3 - Q1\n",
        "        lower = Q1 - factor * IQR\n",
        "        upper = Q3 + factor * IQR\n",
        "        mask = (numeric[col] < lower) | (numeric[col] > upper)\n",
        "        counts[col] = mask.sum()\n",
        "    return pd.Series(counts, name=\"n_outliers_iqr\")\n",
        "\n",
        "outlier_counts_iqr = count_outliers_iqr(X_train[num_cols], factor=1.5)\n",
        "print(outlier_counts_iqr)\n"
      ]
    },
    {
      "cell_type": "markdown",
      "metadata": {
        "id": "Vmb72i0XaFB6"
      },
      "source": [
        "Factor analysis"
      ]
    },
    {
      "cell_type": "code",
      "execution_count": 61,
      "metadata": {
        "colab": {
          "base_uri": "https://localhost:8080/",
          "height": 206
        },
        "id": "QAnYgNV2Yf_q",
        "outputId": "e6784541-6715-4e1d-d442-70bd46450472"
      },
      "outputs": [
        {
          "data": {
            "text/html": [
              "<div>\n",
              "<style scoped>\n",
              "    .dataframe tbody tr th:only-of-type {\n",
              "        vertical-align: middle;\n",
              "    }\n",
              "\n",
              "    .dataframe tbody tr th {\n",
              "        vertical-align: top;\n",
              "    }\n",
              "\n",
              "    .dataframe thead th {\n",
              "        text-align: right;\n",
              "    }\n",
              "</style>\n",
              "<table border=\"1\" class=\"dataframe\">\n",
              "  <thead>\n",
              "    <tr style=\"text-align: right;\">\n",
              "      <th></th>\n",
              "      <th>Preexisting Diabetes</th>\n",
              "      <th>Previous Complications</th>\n",
              "      <th>Gestational Diabetes</th>\n",
              "      <th>Mental Health</th>\n",
              "    </tr>\n",
              "  </thead>\n",
              "  <tbody>\n",
              "    <tr>\n",
              "      <th>598</th>\n",
              "      <td>0.0</td>\n",
              "      <td>0.0</td>\n",
              "      <td>0</td>\n",
              "      <td>0</td>\n",
              "    </tr>\n",
              "    <tr>\n",
              "      <th>186</th>\n",
              "      <td>1.0</td>\n",
              "      <td>0.0</td>\n",
              "      <td>0</td>\n",
              "      <td>1</td>\n",
              "    </tr>\n",
              "    <tr>\n",
              "      <th>762</th>\n",
              "      <td>0.0</td>\n",
              "      <td>0.0</td>\n",
              "      <td>0</td>\n",
              "      <td>0</td>\n",
              "    </tr>\n",
              "    <tr>\n",
              "      <th>180</th>\n",
              "      <td>0.0</td>\n",
              "      <td>0.0</td>\n",
              "      <td>1</td>\n",
              "      <td>1</td>\n",
              "    </tr>\n",
              "    <tr>\n",
              "      <th>604</th>\n",
              "      <td>0.0</td>\n",
              "      <td>0.0</td>\n",
              "      <td>0</td>\n",
              "      <td>0</td>\n",
              "    </tr>\n",
              "  </tbody>\n",
              "</table>\n",
              "</div>"
            ],
            "text/plain": [
              "    Preexisting Diabetes Previous Complications Gestational Diabetes  \\\n",
              "598                  0.0                    0.0                    0   \n",
              "186                  1.0                    0.0                    0   \n",
              "762                  0.0                    0.0                    0   \n",
              "180                  0.0                    0.0                    1   \n",
              "604                  0.0                    0.0                    0   \n",
              "\n",
              "    Mental Health  \n",
              "598             0  \n",
              "186             1  \n",
              "762             0  \n",
              "180             1  \n",
              "604             0  "
            ]
          },
          "execution_count": 61,
          "metadata": {},
          "output_type": "execute_result"
        }
      ],
      "source": [
        "cat_cols = ['Preexisting Diabetes','Previous Complications','Gestational Diabetes','Mental Health']\n",
        "X_train2 = X_train[cat_cols].astype(str)\n",
        "X_train2.head()"
      ]
    },
    {
      "cell_type": "code",
      "execution_count": 62,
      "metadata": {
        "colab": {
          "base_uri": "https://localhost:8080/",
          "height": 206
        },
        "id": "XleivRIda1cn",
        "outputId": "a02259e8-a177-4cdc-ce0a-9e8381f7510d"
      },
      "outputs": [
        {
          "data": {
            "text/html": [
              "<div>\n",
              "<style scoped>\n",
              "    .dataframe tbody tr th:only-of-type {\n",
              "        vertical-align: middle;\n",
              "    }\n",
              "\n",
              "    .dataframe tbody tr th {\n",
              "        vertical-align: top;\n",
              "    }\n",
              "\n",
              "    .dataframe thead th {\n",
              "        text-align: right;\n",
              "    }\n",
              "</style>\n",
              "<table border=\"1\" class=\"dataframe\">\n",
              "  <thead>\n",
              "    <tr style=\"text-align: right;\">\n",
              "      <th></th>\n",
              "      <th>Age</th>\n",
              "      <th>Systolic BP</th>\n",
              "      <th>Diastolic</th>\n",
              "      <th>BS</th>\n",
              "      <th>Body Temp</th>\n",
              "      <th>BMI</th>\n",
              "      <th>Heart Rate</th>\n",
              "      <th>Preexisting Diabetes</th>\n",
              "      <th>Previous Complications</th>\n",
              "      <th>Gestational Diabetes</th>\n",
              "      <th>Mental Health</th>\n",
              "    </tr>\n",
              "  </thead>\n",
              "  <tbody>\n",
              "    <tr>\n",
              "      <th>598</th>\n",
              "      <td>23</td>\n",
              "      <td>140.0</td>\n",
              "      <td>90.0</td>\n",
              "      <td>6.8</td>\n",
              "      <td>98</td>\n",
              "      <td>23.0</td>\n",
              "      <td>70.0</td>\n",
              "      <td>0.0</td>\n",
              "      <td>0.0</td>\n",
              "      <td>0</td>\n",
              "      <td>0</td>\n",
              "    </tr>\n",
              "    <tr>\n",
              "      <th>186</th>\n",
              "      <td>28</td>\n",
              "      <td>140.0</td>\n",
              "      <td>90.0</td>\n",
              "      <td>8.0</td>\n",
              "      <td>98</td>\n",
              "      <td>25.7</td>\n",
              "      <td>80.0</td>\n",
              "      <td>1.0</td>\n",
              "      <td>0.0</td>\n",
              "      <td>0</td>\n",
              "      <td>1</td>\n",
              "    </tr>\n",
              "    <tr>\n",
              "      <th>762</th>\n",
              "      <td>25</td>\n",
              "      <td>120.0</td>\n",
              "      <td>90.0</td>\n",
              "      <td>6.7</td>\n",
              "      <td>101</td>\n",
              "      <td>21.0</td>\n",
              "      <td>80.0</td>\n",
              "      <td>0.0</td>\n",
              "      <td>0.0</td>\n",
              "      <td>0</td>\n",
              "      <td>0</td>\n",
              "    </tr>\n",
              "    <tr>\n",
              "      <th>180</th>\n",
              "      <td>25</td>\n",
              "      <td>130.0</td>\n",
              "      <td>100.0</td>\n",
              "      <td>7.8</td>\n",
              "      <td>98</td>\n",
              "      <td>30.6</td>\n",
              "      <td>86.0</td>\n",
              "      <td>0.0</td>\n",
              "      <td>0.0</td>\n",
              "      <td>1</td>\n",
              "      <td>1</td>\n",
              "    </tr>\n",
              "    <tr>\n",
              "      <th>604</th>\n",
              "      <td>19</td>\n",
              "      <td>120.0</td>\n",
              "      <td>80.0</td>\n",
              "      <td>4.0</td>\n",
              "      <td>98</td>\n",
              "      <td>20.0</td>\n",
              "      <td>70.0</td>\n",
              "      <td>0.0</td>\n",
              "      <td>0.0</td>\n",
              "      <td>0</td>\n",
              "      <td>0</td>\n",
              "    </tr>\n",
              "  </tbody>\n",
              "</table>\n",
              "</div>"
            ],
            "text/plain": [
              "     Age  Systolic BP  Diastolic   BS  Body Temp   BMI  Heart Rate  \\\n",
              "598   23        140.0       90.0  6.8         98  23.0        70.0   \n",
              "186   28        140.0       90.0  8.0         98  25.7        80.0   \n",
              "762   25        120.0       90.0  6.7        101  21.0        80.0   \n",
              "180   25        130.0      100.0  7.8         98  30.6        86.0   \n",
              "604   19        120.0       80.0  4.0         98  20.0        70.0   \n",
              "\n",
              "    Preexisting Diabetes Previous Complications Gestational Diabetes  \\\n",
              "598                  0.0                    0.0                    0   \n",
              "186                  1.0                    0.0                    0   \n",
              "762                  0.0                    0.0                    0   \n",
              "180                  0.0                    0.0                    1   \n",
              "604                  0.0                    0.0                    0   \n",
              "\n",
              "    Mental Health  \n",
              "598             0  \n",
              "186             1  \n",
              "762             0  \n",
              "180             1  \n",
              "604             0  "
            ]
          },
          "execution_count": 62,
          "metadata": {},
          "output_type": "execute_result"
        }
      ],
      "source": [
        "X_train3 = pd.concat([X_train1,X_train2], axis=1)\n",
        "X_train3.head()"
      ]
    },
    {
      "cell_type": "code",
      "execution_count": 63,
      "metadata": {
        "colab": {
          "base_uri": "https://localhost:8080/"
        },
        "id": "DSIpZ5XNcDM2",
        "outputId": "9c49b0b8-eade-45db-c30c-058115923eb7"
      },
      "outputs": [
        {
          "name": "stdout",
          "output_type": "stream",
          "text": [
            "Requirement already satisfied: prince in c:\\users\\menuka\\appdata\\local\\programs\\python\\python312\\lib\\site-packages (0.16.0)\n",
            "Requirement already satisfied: altair<6.0.0,>=5.0.0 in c:\\users\\menuka\\appdata\\local\\programs\\python\\python312\\lib\\site-packages (from prince) (5.5.0)\n",
            "Requirement already satisfied: pandas<3.0.0,>=2.2.0 in c:\\users\\menuka\\appdata\\local\\programs\\python\\python312\\lib\\site-packages (from prince) (2.2.3)\n",
            "Requirement already satisfied: scikit-learn<2.0.0,>=1.5.1 in c:\\users\\menuka\\appdata\\local\\programs\\python\\python312\\lib\\site-packages (from prince) (1.6.1)\n",
            "Requirement already satisfied: jinja2 in c:\\users\\menuka\\appdata\\local\\programs\\python\\python312\\lib\\site-packages (from altair<6.0.0,>=5.0.0->prince) (3.1.6)\n",
            "Requirement already satisfied: jsonschema>=3.0 in c:\\users\\menuka\\appdata\\local\\programs\\python\\python312\\lib\\site-packages (from altair<6.0.0,>=5.0.0->prince) (4.25.0)\n",
            "Requirement already satisfied: narwhals>=1.14.2 in c:\\users\\menuka\\appdata\\local\\programs\\python\\python312\\lib\\site-packages (from altair<6.0.0,>=5.0.0->prince) (2.0.1)\n",
            "Requirement already satisfied: packaging in c:\\users\\menuka\\appdata\\local\\programs\\python\\python312\\lib\\site-packages (from altair<6.0.0,>=5.0.0->prince) (25.0)\n",
            "Requirement already satisfied: typing-extensions>=4.10.0 in c:\\users\\menuka\\appdata\\local\\programs\\python\\python312\\lib\\site-packages (from altair<6.0.0,>=5.0.0->prince) (4.14.1)\n",
            "Requirement already satisfied: numpy>=1.26.0 in c:\\users\\menuka\\appdata\\local\\programs\\python\\python312\\lib\\site-packages (from pandas<3.0.0,>=2.2.0->prince) (2.3.2)\n",
            "Requirement already satisfied: python-dateutil>=2.8.2 in c:\\users\\menuka\\appdata\\local\\programs\\python\\python312\\lib\\site-packages (from pandas<3.0.0,>=2.2.0->prince) (2.9.0.post0)\n",
            "Requirement already satisfied: pytz>=2020.1 in c:\\users\\menuka\\appdata\\local\\programs\\python\\python312\\lib\\site-packages (from pandas<3.0.0,>=2.2.0->prince) (2024.2)\n",
            "Requirement already satisfied: tzdata>=2022.7 in c:\\users\\menuka\\appdata\\local\\programs\\python\\python312\\lib\\site-packages (from pandas<3.0.0,>=2.2.0->prince) (2024.2)\n",
            "Requirement already satisfied: scipy>=1.6.0 in c:\\users\\menuka\\appdata\\local\\programs\\python\\python312\\lib\\site-packages (from scikit-learn<2.0.0,>=1.5.1->prince) (1.16.0)\n",
            "Requirement already satisfied: joblib>=1.2.0 in c:\\users\\menuka\\appdata\\local\\programs\\python\\python312\\lib\\site-packages (from scikit-learn<2.0.0,>=1.5.1->prince) (1.5.1)\n",
            "Requirement already satisfied: threadpoolctl>=3.1.0 in c:\\users\\menuka\\appdata\\local\\programs\\python\\python312\\lib\\site-packages (from scikit-learn<2.0.0,>=1.5.1->prince) (3.6.0)\n",
            "Requirement already satisfied: attrs>=22.2.0 in c:\\users\\menuka\\appdata\\local\\programs\\python\\python312\\lib\\site-packages (from jsonschema>=3.0->altair<6.0.0,>=5.0.0->prince) (25.3.0)\n",
            "Requirement already satisfied: jsonschema-specifications>=2023.03.6 in c:\\users\\menuka\\appdata\\local\\programs\\python\\python312\\lib\\site-packages (from jsonschema>=3.0->altair<6.0.0,>=5.0.0->prince) (2025.4.1)\n",
            "Requirement already satisfied: referencing>=0.28.4 in c:\\users\\menuka\\appdata\\local\\programs\\python\\python312\\lib\\site-packages (from jsonschema>=3.0->altair<6.0.0,>=5.0.0->prince) (0.36.2)\n",
            "Requirement already satisfied: rpds-py>=0.7.1 in c:\\users\\menuka\\appdata\\local\\programs\\python\\python312\\lib\\site-packages (from jsonschema>=3.0->altair<6.0.0,>=5.0.0->prince) (0.26.0)\n",
            "Requirement already satisfied: six>=1.5 in c:\\users\\menuka\\appdata\\local\\programs\\python\\python312\\lib\\site-packages (from python-dateutil>=2.8.2->pandas<3.0.0,>=2.2.0->prince) (1.17.0)\n",
            "Requirement already satisfied: MarkupSafe>=2.0 in c:\\users\\menuka\\appdata\\local\\programs\\python\\python312\\lib\\site-packages (from jinja2->altair<6.0.0,>=5.0.0->prince) (3.0.2)\n",
            "Note: you may need to restart the kernel to use updated packages.\n"
          ]
        },
        {
          "name": "stderr",
          "output_type": "stream",
          "text": [
            "\n",
            "[notice] A new release of pip is available: 24.0 -> 25.2\n",
            "[notice] To update, run: python.exe -m pip install --upgrade pip\n"
          ]
        }
      ],
      "source": [
        "pip install prince"
      ]
    },
    {
      "cell_type": "code",
      "execution_count": 64,
      "metadata": {
        "colab": {
          "base_uri": "https://localhost:8080/",
          "height": 564
        },
        "id": "l9cVlUmNa1ZA",
        "outputId": "478cdc07-ae7b-4c5e-aaaf-74cfeb21f25e"
      },
      "outputs": [
        {
          "data": {
            "image/png": "[encoded data removed]",
            "text/plain": [
              "<Figure size 1000x600 with 1 Axes>"
            ]
          },
          "metadata": {},
          "output_type": "display_data"
        }
      ],
      "source": [
        "import prince\n",
        "\n",
        "famd = prince.FAMD(n_components=5, random_state=42)\n",
        "famd_data = famd.fit_transform(X_train3)  # df = your original mixed data\n",
        "\n",
        "\n",
        "\n",
        "famd_scores = famd.transform(X_train3)\n",
        "\n",
        "# Plotting FAMD score plot\n",
        "plt.figure(figsize=(10, 6))\n",
        "sns.scatterplot(x=famd_scores.iloc[:, 0], y=famd_scores.iloc[:, 1], alpha=0.7)\n",
        "#sns.scatterplot(x=famd_scores[0], y=famd_scores[1], alpha=0.7)\n",
        "plt.axhline(0, color=\"black\", linestyle=\"--\", linewidth=0.5)\n",
        "plt.axvline(0, color=\"black\", linestyle=\"--\", linewidth=0.5)\n",
        "plt.xlabel(\"FAMD Component 1\")\n",
        "plt.ylabel(\"FAMD Component 2\")\n",
        "plt.title(\"FAMD Score Plot\")\n",
        "plt.show()"
      ]
    },
    {
      "cell_type": "code",
      "execution_count": 65,
      "metadata": {
        "colab": {
          "base_uri": "https://localhost:8080/",
          "height": 378
        },
        "id": "i0_zYsvWovIz",
        "outputId": "194df7e7-6496-4288-eed8-bf478d14bd2a"
      },
      "outputs": [
        {
          "data": {
            "image/png": "[encoded data removed]",
            "text/plain": [
              "<Figure size 1500x400 with 3 Axes>"
            ]
          },
          "metadata": {},
          "output_type": "display_data"
        }
      ],
      "source": [
        "\n",
        "from sklearn.cluster import KMeans\n",
        "from sklearn.metrics import silhouette_score, davies_bouldin_score\n",
        "import matplotlib.pyplot as plt\n",
        "\n",
        "inertias = []\n",
        "silhouettes = []\n",
        "db_scores = []\n",
        "K = range(2, 11)\n",
        "\n",
        "for k in K:\n",
        "    model = KMeans(n_clusters=k, random_state=42)\n",
        "    preds = model.fit_predict(famd_data)\n",
        "    inertias.append(model.inertia_)\n",
        "    silhouettes.append(silhouette_score(famd_data, preds))\n",
        "    db_scores.append(davies_bouldin_score(famd_data, preds))\n",
        "\n",
        "\n",
        "plt.figure(figsize=(15, 4))\n",
        "\n",
        "plt.subplot(1, 3, 1)\n",
        "plt.plot(K, inertias, 'o-')\n",
        "plt.title('Elbow Method')\n",
        "plt.xlabel('k')\n",
        "plt.ylabel('Inertia')\n",
        "\n",
        "plt.subplot(1, 3, 2)\n",
        "plt.plot(K, silhouettes, 'o-', color='green')\n",
        "plt.title('Silhouette Score')\n",
        "plt.xlabel('k')\n",
        "plt.ylabel('Score')\n",
        "\n",
        "plt.subplot(1, 3, 3)\n",
        "plt.plot(K, db_scores, 'o-', color='red')\n",
        "plt.title('Davies–Bouldin Index')\n",
        "plt.xlabel('k')\n",
        "plt.ylabel('Score (lower is better)')\n",
        "\n",
        "plt.tight_layout()\n",
        "plt.show()"
      ]
    },
    {
      "cell_type": "markdown",
      "metadata": {
        "id": "msbLxW0gcMzF"
      },
      "source": [
        "\n",
        "\n",
        "*  No clusters identified\n",
        "\n",
        "\n"
      ]
    },
    {
      "cell_type": "code",
      "execution_count": 66,
      "metadata": {
        "colab": {
          "base_uri": "https://localhost:8080/",
          "height": 564
        },
        "id": "K3hG9PHi1mtz",
        "outputId": "aa8b1933-32e2-4340-c26f-e90a10a72de4"
      },
      "outputs": [
        {
          "data": {
            "image/png": "[encoded data removed]",
            "text/plain": [
              "<Figure size 800x600 with 1 Axes>"
            ]
          },
          "metadata": {},
          "output_type": "display_data"
        }
      ],
      "source": [
        "# 3. Extract eigenvalues\n",
        "# Get eigenvalues and calculate explained variance percentage\n",
        "eigenvalues = famd.eigenvalues_\n",
        "explained_variance_ratio = (eigenvalues / eigenvalues.sum()) * 100\n",
        "\n",
        "# Create the scree plot\n",
        "plt.figure(figsize=(8, 6))\n",
        "plt.plot(range(1, len(explained_variance_ratio) + 1), explained_variance_ratio, marker='o', linestyle='-')\n",
        "plt.title('Scree Plot with Explained Variance Percentage (FAMD)')\n",
        "plt.xlabel('Dimension Number')\n",
        "plt.ylabel('Percentage of Explained Variance')\n",
        "plt.grid(True)\n",
        "plt.xticks(range(1, len(explained_variance_ratio) + 1)) # Ensure integer ticks\n",
        "plt.show()"
      ]
    },
    {
      "cell_type": "code",
      "execution_count": 67,
      "metadata": {
        "colab": {
          "base_uri": "https://localhost:8080/",
          "height": 206
        },
        "id": "hCxQcY-Wa1WN",
        "outputId": "7c9d5bd8-9c00-4dcf-c080-6c26ff2d921e"
      },
      "outputs": [
        {
          "data": {
            "text/html": [
              "<div>\n",
              "<style scoped>\n",
              "    .dataframe tbody tr th:only-of-type {\n",
              "        vertical-align: middle;\n",
              "    }\n",
              "\n",
              "    .dataframe tbody tr th {\n",
              "        vertical-align: top;\n",
              "    }\n",
              "\n",
              "    .dataframe thead th {\n",
              "        text-align: right;\n",
              "    }\n",
              "</style>\n",
              "<table border=\"1\" class=\"dataframe\">\n",
              "  <thead>\n",
              "    <tr style=\"text-align: right;\">\n",
              "      <th></th>\n",
              "      <th>Age</th>\n",
              "      <th>Systolic BP</th>\n",
              "      <th>Diastolic</th>\n",
              "      <th>BS</th>\n",
              "      <th>Body Temp</th>\n",
              "      <th>BMI</th>\n",
              "      <th>Previous Complications</th>\n",
              "      <th>Preexisting Diabetes</th>\n",
              "      <th>Gestational Diabetes</th>\n",
              "      <th>Mental Health</th>\n",
              "      <th>Heart Rate</th>\n",
              "    </tr>\n",
              "  </thead>\n",
              "  <tbody>\n",
              "    <tr>\n",
              "      <th>598</th>\n",
              "      <td>23</td>\n",
              "      <td>140.0</td>\n",
              "      <td>90.0</td>\n",
              "      <td>6.8</td>\n",
              "      <td>98</td>\n",
              "      <td>23.0</td>\n",
              "      <td>0.0</td>\n",
              "      <td>0.0</td>\n",
              "      <td>0</td>\n",
              "      <td>0</td>\n",
              "      <td>70.0</td>\n",
              "    </tr>\n",
              "    <tr>\n",
              "      <th>186</th>\n",
              "      <td>28</td>\n",
              "      <td>140.0</td>\n",
              "      <td>90.0</td>\n",
              "      <td>8.0</td>\n",
              "      <td>98</td>\n",
              "      <td>25.7</td>\n",
              "      <td>0.0</td>\n",
              "      <td>1.0</td>\n",
              "      <td>0</td>\n",
              "      <td>1</td>\n",
              "      <td>80.0</td>\n",
              "    </tr>\n",
              "    <tr>\n",
              "      <th>762</th>\n",
              "      <td>25</td>\n",
              "      <td>120.0</td>\n",
              "      <td>90.0</td>\n",
              "      <td>6.7</td>\n",
              "      <td>101</td>\n",
              "      <td>21.0</td>\n",
              "      <td>0.0</td>\n",
              "      <td>0.0</td>\n",
              "      <td>0</td>\n",
              "      <td>0</td>\n",
              "      <td>80.0</td>\n",
              "    </tr>\n",
              "    <tr>\n",
              "      <th>180</th>\n",
              "      <td>25</td>\n",
              "      <td>130.0</td>\n",
              "      <td>100.0</td>\n",
              "      <td>7.8</td>\n",
              "      <td>98</td>\n",
              "      <td>30.6</td>\n",
              "      <td>0.0</td>\n",
              "      <td>0.0</td>\n",
              "      <td>1</td>\n",
              "      <td>1</td>\n",
              "      <td>86.0</td>\n",
              "    </tr>\n",
              "    <tr>\n",
              "      <th>604</th>\n",
              "      <td>19</td>\n",
              "      <td>120.0</td>\n",
              "      <td>80.0</td>\n",
              "      <td>4.0</td>\n",
              "      <td>98</td>\n",
              "      <td>20.0</td>\n",
              "      <td>0.0</td>\n",
              "      <td>0.0</td>\n",
              "      <td>0</td>\n",
              "      <td>0</td>\n",
              "      <td>70.0</td>\n",
              "    </tr>\n",
              "  </tbody>\n",
              "</table>\n",
              "</div>"
            ],
            "text/plain": [
              "     Age  Systolic BP  Diastolic   BS  Body Temp   BMI  \\\n",
              "598   23        140.0       90.0  6.8         98  23.0   \n",
              "186   28        140.0       90.0  8.0         98  25.7   \n",
              "762   25        120.0       90.0  6.7        101  21.0   \n",
              "180   25        130.0      100.0  7.8         98  30.6   \n",
              "604   19        120.0       80.0  4.0         98  20.0   \n",
              "\n",
              "     Previous Complications  Preexisting Diabetes  Gestational Diabetes  \\\n",
              "598                     0.0                   0.0                     0   \n",
              "186                     0.0                   1.0                     0   \n",
              "762                     0.0                   0.0                     0   \n",
              "180                     0.0                   0.0                     1   \n",
              "604                     0.0                   0.0                     0   \n",
              "\n",
              "     Mental Health  Heart Rate  \n",
              "598              0        70.0  \n",
              "186              1        80.0  \n",
              "762              0        80.0  \n",
              "180              1        86.0  \n",
              "604              0        70.0  "
            ]
          },
          "execution_count": 67,
          "metadata": {},
          "output_type": "execute_result"
        }
      ],
      "source": [
        "X_train.head()"
      ]
    },
    {
      "cell_type": "code",
      "execution_count": 68,
      "metadata": {
        "colab": {
          "base_uri": "https://localhost:8080/",
          "height": 206
        },
        "id": "PGQiIp-Fa1Tn",
        "outputId": "be3a8a36-71bc-471c-f7a0-9b6c72b3efa4"
      },
      "outputs": [
        {
          "data": {
            "text/html": [
              "<div>\n",
              "<style scoped>\n",
              "    .dataframe tbody tr th:only-of-type {\n",
              "        vertical-align: middle;\n",
              "    }\n",
              "\n",
              "    .dataframe tbody tr th {\n",
              "        vertical-align: top;\n",
              "    }\n",
              "\n",
              "    .dataframe thead th {\n",
              "        text-align: right;\n",
              "    }\n",
              "</style>\n",
              "<table border=\"1\" class=\"dataframe\">\n",
              "  <thead>\n",
              "    <tr style=\"text-align: right;\">\n",
              "      <th></th>\n",
              "      <th>Age</th>\n",
              "      <th>Systolic BP</th>\n",
              "      <th>Diastolic</th>\n",
              "      <th>BS</th>\n",
              "      <th>Body Temp</th>\n",
              "      <th>BMI</th>\n",
              "      <th>Previous Complications</th>\n",
              "      <th>Preexisting Diabetes</th>\n",
              "      <th>Gestational Diabetes</th>\n",
              "      <th>Mental Health</th>\n",
              "      <th>Heart Rate</th>\n",
              "    </tr>\n",
              "  </thead>\n",
              "  <tbody>\n",
              "    <tr>\n",
              "      <th>0</th>\n",
              "      <td>-0.377313</td>\n",
              "      <td>1.219941</td>\n",
              "      <td>0.892273</td>\n",
              "      <td>-0.256307</td>\n",
              "      <td>-0.367228</td>\n",
              "      <td>-0.111078</td>\n",
              "      <td>-0.457792</td>\n",
              "      <td>-0.647160</td>\n",
              "      <td>-0.367027</td>\n",
              "      <td>-0.740279</td>\n",
              "      <td>-0.813628</td>\n",
              "    </tr>\n",
              "    <tr>\n",
              "      <th>1</th>\n",
              "      <td>-0.005723</td>\n",
              "      <td>1.219941</td>\n",
              "      <td>0.892273</td>\n",
              "      <td>0.136246</td>\n",
              "      <td>-0.367228</td>\n",
              "      <td>0.596154</td>\n",
              "      <td>-0.457792</td>\n",
              "      <td>1.545212</td>\n",
              "      <td>-0.367027</td>\n",
              "      <td>1.350842</td>\n",
              "      <td>0.560545</td>\n",
              "    </tr>\n",
              "    <tr>\n",
              "      <th>2</th>\n",
              "      <td>-0.228677</td>\n",
              "      <td>0.164668</td>\n",
              "      <td>0.892273</td>\n",
              "      <td>-0.289019</td>\n",
              "      <td>2.357838</td>\n",
              "      <td>-0.634954</td>\n",
              "      <td>-0.457792</td>\n",
              "      <td>-0.647160</td>\n",
              "      <td>-0.367027</td>\n",
              "      <td>-0.740279</td>\n",
              "      <td>0.560545</td>\n",
              "    </tr>\n",
              "    <tr>\n",
              "      <th>3</th>\n",
              "      <td>-0.228677</td>\n",
              "      <td>0.692304</td>\n",
              "      <td>1.588489</td>\n",
              "      <td>0.070820</td>\n",
              "      <td>-0.367228</td>\n",
              "      <td>1.879649</td>\n",
              "      <td>-0.457792</td>\n",
              "      <td>-0.647160</td>\n",
              "      <td>2.724596</td>\n",
              "      <td>1.350842</td>\n",
              "      <td>1.385048</td>\n",
              "    </tr>\n",
              "    <tr>\n",
              "      <th>4</th>\n",
              "      <td>-0.674586</td>\n",
              "      <td>0.164668</td>\n",
              "      <td>0.196057</td>\n",
              "      <td>-1.172263</td>\n",
              "      <td>-0.367228</td>\n",
              "      <td>-0.896892</td>\n",
              "      <td>-0.457792</td>\n",
              "      <td>-0.647160</td>\n",
              "      <td>-0.367027</td>\n",
              "      <td>-0.740279</td>\n",
              "      <td>-0.813628</td>\n",
              "    </tr>\n",
              "  </tbody>\n",
              "</table>\n",
              "</div>"
            ],
            "text/plain": [
              "        Age  Systolic BP  Diastolic        BS  Body Temp       BMI  \\\n",
              "0 -0.377313     1.219941   0.892273 -0.256307  -0.367228 -0.111078   \n",
              "1 -0.005723     1.219941   0.892273  0.136246  -0.367228  0.596154   \n",
              "2 -0.228677     0.164668   0.892273 -0.289019   2.357838 -0.634954   \n",
              "3 -0.228677     0.692304   1.588489  0.070820  -0.367228  1.879649   \n",
              "4 -0.674586     0.164668   0.196057 -1.172263  -0.367228 -0.896892   \n",
              "\n",
              "   Previous Complications  Preexisting Diabetes  Gestational Diabetes  \\\n",
              "0               -0.457792             -0.647160             -0.367027   \n",
              "1               -0.457792              1.545212             -0.367027   \n",
              "2               -0.457792             -0.647160             -0.367027   \n",
              "3               -0.457792             -0.647160              2.724596   \n",
              "4               -0.457792             -0.647160             -0.367027   \n",
              "\n",
              "   Mental Health  Heart Rate  \n",
              "0      -0.740279   -0.813628  \n",
              "1       1.350842    0.560545  \n",
              "2      -0.740279    0.560545  \n",
              "3       1.350842    1.385048  \n",
              "4      -0.740279   -0.813628  "
            ]
          },
          "execution_count": 68,
          "metadata": {},
          "output_type": "execute_result"
        }
      ],
      "source": [
        "from sklearn.preprocessing import StandardScaler\n",
        "scaler = StandardScaler()\n",
        "X_train_scaled = scaler.fit_transform(X_train)\n",
        "X_train_scaled = pd.DataFrame(X_train_scaled, columns=X_train.columns)\n",
        "X_train_scaled.head()"
      ]
    },
    {
      "cell_type": "code",
      "execution_count": 69,
      "metadata": {
        "colab": {
          "base_uri": "https://localhost:8080/",
          "height": 178
        },
        "id": "UayOZdFsa1Q0",
        "outputId": "841967e8-0722-4830-b845-df024518d0ea"
      },
      "outputs": [
        {
          "data": {
            "text/plain": [
              "Risk Level\n",
              "Low     555\n",
              "High    380\n",
              "Name: count, dtype: int64"
            ]
          },
          "execution_count": 69,
          "metadata": {},
          "output_type": "execute_result"
        }
      ],
      "source": [
        "y_train.value_counts()"
      ]
    },
    {
      "cell_type": "markdown",
      "metadata": {
        "id": "NKfSwKmtdusI"
      },
      "source": [
        "### Trying apply smote"
      ]
    },
    {
      "cell_type": "code",
      "execution_count": 70,
      "metadata": {
        "colab": {
          "base_uri": "https://localhost:8080/"
        },
        "id": "eHf1pUPaa1Oz",
        "outputId": "4868fba5-2181-4145-a147-16c03d955114"
      },
      "outputs": [
        {
          "name": "stdout",
          "output_type": "stream",
          "text": [
            "Shape of original c1_x_train: (935, 11)\n",
            "Shape of c1_y_train: (935,)\n",
            "Shape of c1_x_train after scaling and SMOTE: (1110, 11)\n",
            "Shape of c1_y_train after scaling and SMOTE: (1110,)\n",
            "\n",
            "Value counts of original c1_y_train:\n",
            "Risk Level\n",
            "Low     555\n",
            "High    380\n",
            "Name: count, dtype: int64\n",
            "\n",
            "Value counts of c1_y_train after SMOTE:\n",
            "Risk Level\n",
            "Low     555\n",
            "High    555\n",
            "Name: count, dtype: int64\n"
          ]
        }
      ],
      "source": [
        "# reduce class imbalance\n",
        "from imblearn.over_sampling import SMOTE\n",
        "\n",
        "smote = SMOTE(random_state=42, k_neighbors=5)\n",
        "x_train_smote, y_train_smote = smote.fit_resample(X_train,y_train)\n",
        "\n",
        "\n",
        "print(\"Shape of original c1_x_train:\", X_train.shape)\n",
        "print(\"Shape of c1_y_train:\",y_train.shape)\n",
        "print(\"Shape of c1_x_train after scaling and SMOTE:\", x_train_smote.shape)\n",
        "print(\"Shape of c1_y_train after scaling and SMOTE:\", y_train_smote.shape)\n",
        "print(\"\\nValue counts of original c1_y_train:\")\n",
        "print(y_train.value_counts())\n",
        "print(\"\\nValue counts of c1_y_train after SMOTE:\")\n",
        "print(y_train_smote.value_counts())"
      ]
    },
    {
      "cell_type": "code",
      "execution_count": 71,
      "metadata": {
        "colab": {
          "base_uri": "https://localhost:8080/",
          "height": 206
        },
        "id": "HB18hyv1a1L6",
        "outputId": "64cdbd61-266b-403c-bcb6-a42d8c7bbe7c"
      },
      "outputs": [
        {
          "data": {
            "text/html": [
              "<div>\n",
              "<style scoped>\n",
              "    .dataframe tbody tr th:only-of-type {\n",
              "        vertical-align: middle;\n",
              "    }\n",
              "\n",
              "    .dataframe tbody tr th {\n",
              "        vertical-align: top;\n",
              "    }\n",
              "\n",
              "    .dataframe thead th {\n",
              "        text-align: right;\n",
              "    }\n",
              "</style>\n",
              "<table border=\"1\" class=\"dataframe\">\n",
              "  <thead>\n",
              "    <tr style=\"text-align: right;\">\n",
              "      <th></th>\n",
              "      <th>Age</th>\n",
              "      <th>Systolic BP</th>\n",
              "      <th>Diastolic</th>\n",
              "      <th>BS</th>\n",
              "      <th>Body Temp</th>\n",
              "      <th>BMI</th>\n",
              "      <th>Previous Complications</th>\n",
              "      <th>Preexisting Diabetes</th>\n",
              "      <th>Gestational Diabetes</th>\n",
              "      <th>Mental Health</th>\n",
              "      <th>Heart Rate</th>\n",
              "    </tr>\n",
              "  </thead>\n",
              "  <tbody>\n",
              "    <tr>\n",
              "      <th>0</th>\n",
              "      <td>-0.395981</td>\n",
              "      <td>1.146085</td>\n",
              "      <td>0.816637</td>\n",
              "      <td>-0.343234</td>\n",
              "      <td>-0.377050</td>\n",
              "      <td>-0.196464</td>\n",
              "      <td>-0.531542</td>\n",
              "      <td>-0.753397</td>\n",
              "      <td>-0.370534</td>\n",
              "      <td>-0.775714</td>\n",
              "      <td>-0.878129</td>\n",
              "    </tr>\n",
              "    <tr>\n",
              "      <th>1</th>\n",
              "      <td>-0.006802</td>\n",
              "      <td>1.146085</td>\n",
              "      <td>0.816637</td>\n",
              "      <td>0.027183</td>\n",
              "      <td>-0.377050</td>\n",
              "      <td>0.490777</td>\n",
              "      <td>-0.531542</td>\n",
              "      <td>1.378204</td>\n",
              "      <td>-0.370534</td>\n",
              "      <td>1.289136</td>\n",
              "      <td>0.431103</td>\n",
              "    </tr>\n",
              "    <tr>\n",
              "      <th>2</th>\n",
              "      <td>-0.240309</td>\n",
              "      <td>0.118168</td>\n",
              "      <td>0.816637</td>\n",
              "      <td>-0.374102</td>\n",
              "      <td>2.323115</td>\n",
              "      <td>-0.705531</td>\n",
              "      <td>-0.531542</td>\n",
              "      <td>-0.753397</td>\n",
              "      <td>-0.370534</td>\n",
              "      <td>-0.775714</td>\n",
              "      <td>0.431103</td>\n",
              "    </tr>\n",
              "    <tr>\n",
              "      <th>3</th>\n",
              "      <td>-0.240309</td>\n",
              "      <td>0.632126</td>\n",
              "      <td>1.495740</td>\n",
              "      <td>-0.034553</td>\n",
              "      <td>-0.377050</td>\n",
              "      <td>1.737991</td>\n",
              "      <td>-0.531542</td>\n",
              "      <td>-0.753397</td>\n",
              "      <td>2.698811</td>\n",
              "      <td>1.289136</td>\n",
              "      <td>1.216643</td>\n",
              "    </tr>\n",
              "    <tr>\n",
              "      <th>4</th>\n",
              "      <td>-0.707324</td>\n",
              "      <td>0.118168</td>\n",
              "      <td>0.137534</td>\n",
              "      <td>-1.207539</td>\n",
              "      <td>-0.377050</td>\n",
              "      <td>-0.960064</td>\n",
              "      <td>-0.531542</td>\n",
              "      <td>-0.753397</td>\n",
              "      <td>-0.370534</td>\n",
              "      <td>-0.775714</td>\n",
              "      <td>-0.878129</td>\n",
              "    </tr>\n",
              "  </tbody>\n",
              "</table>\n",
              "</div>"
            ],
            "text/plain": [
              "        Age  Systolic BP  Diastolic        BS  Body Temp       BMI  \\\n",
              "0 -0.395981     1.146085   0.816637 -0.343234  -0.377050 -0.196464   \n",
              "1 -0.006802     1.146085   0.816637  0.027183  -0.377050  0.490777   \n",
              "2 -0.240309     0.118168   0.816637 -0.374102   2.323115 -0.705531   \n",
              "3 -0.240309     0.632126   1.495740 -0.034553  -0.377050  1.737991   \n",
              "4 -0.707324     0.118168   0.137534 -1.207539  -0.377050 -0.960064   \n",
              "\n",
              "   Previous Complications  Preexisting Diabetes  Gestational Diabetes  \\\n",
              "0               -0.531542             -0.753397             -0.370534   \n",
              "1               -0.531542              1.378204             -0.370534   \n",
              "2               -0.531542             -0.753397             -0.370534   \n",
              "3               -0.531542             -0.753397              2.698811   \n",
              "4               -0.531542             -0.753397             -0.370534   \n",
              "\n",
              "   Mental Health  Heart Rate  \n",
              "0      -0.775714   -0.878129  \n",
              "1       1.289136    0.431103  \n",
              "2      -0.775714    0.431103  \n",
              "3       1.289136    1.216643  \n",
              "4      -0.775714   -0.878129  "
            ]
          },
          "execution_count": 71,
          "metadata": {},
          "output_type": "execute_result"
        }
      ],
      "source": [
        "scaler_s = StandardScaler()\n",
        "X_train_s_scaled = scaler_s.fit_transform(x_train_smote)\n",
        "X_train_s_scaled = pd.DataFrame(X_train_s_scaled, columns=x_train_smote.columns)\n",
        "X_train_s_scaled.head()"
      ]
    },
    {
      "cell_type": "markdown",
      "metadata": {
        "id": "YGQHcSVVey4i"
      },
      "source": [
        "X_train_scaled = preprocessing done , class imbalanced not handled<br>\n",
        "X_train_s_scaled = preprocessing done , class imbalanced handled"
      ]
    },
    {
      "cell_type": "code",
      "execution_count": 72,
      "metadata": {
        "colab": {
          "base_uri": "https://localhost:8080/"
        },
        "id": "jwvwp3TxgipA",
        "outputId": "4e1fb487-d103-4999-b2b0-b19a756eae34"
      },
      "outputs": [
        {
          "name": "stdout",
          "output_type": "stream",
          "text": [
            "   Risk Level\n",
            "0           1\n",
            "1           0\n",
            "2           1\n",
            "3           0\n",
            "4           1\n"
          ]
        }
      ],
      "source": [
        "from sklearn.preprocessing import LabelEncoder\n",
        "\n",
        "le = LabelEncoder()\n",
        "y_train_encoded = pd.DataFrame(le.fit_transform(y_train.values.ravel()), columns=[\"Risk Level\"])\n",
        "y_train_smote_encoded = pd.DataFrame(le.transform(y_train_smote.values.ravel()), columns=[\"Risk Level\"])\n",
        "\n",
        "print(y_train_encoded.head())\n"
      ]
    },
    {
      "cell_type": "code",
      "execution_count": 73,
      "metadata": {
        "colab": {
          "base_uri": "https://localhost:8080/"
        },
        "id": "ZcE8d_r8gilr",
        "outputId": "62fb441e-138a-4e0b-d659-13707c9fa30d"
      },
      "outputs": [
        {
          "name": "stdout",
          "output_type": "stream",
          "text": [
            "Original classes and their encoded values:\n",
            "High: 0\n",
            "Low: 1\n"
          ]
        }
      ],
      "source": [
        "print(\"Original classes and their encoded values:\")\n",
        "for i, class_name in enumerate(le.classes_):\n",
        "    print(f\"{class_name}: {i}\")"
      ]
    },
    {
      "cell_type": "markdown",
      "metadata": {
        "id": "Fx6yRAplWQ7P"
      },
      "source": [
        "### preprocessing of X_test"
      ]
    },
    {
      "cell_type": "code",
      "execution_count": 74,
      "metadata": {
        "colab": {
          "base_uri": "https://localhost:8080/",
          "height": 429
        },
        "id": "AY1EtM0JYJjD",
        "outputId": "22d21994-d3c9-45a0-9464-103fcd3e56d1"
      },
      "outputs": [
        {
          "data": {
            "text/plain": [
              "Age                       0\n",
              "Systolic BP               0\n",
              "Diastolic                 0\n",
              "BS                        0\n",
              "Body Temp                 0\n",
              "BMI                       3\n",
              "Previous Complications    0\n",
              "Preexisting Diabetes      0\n",
              "Gestational Diabetes      0\n",
              "Mental Health             0\n",
              "Heart Rate                0\n",
              "dtype: int64"
            ]
          },
          "execution_count": 74,
          "metadata": {},
          "output_type": "execute_result"
        }
      ],
      "source": [
        "X_test.isnull().sum()"
      ]
    },
    {
      "cell_type": "code",
      "execution_count": 75,
      "metadata": {
        "colab": {
          "base_uri": "https://localhost:8080/"
        },
        "id": "menJ8kDdWUUy",
        "outputId": "c1a8c56a-20a8-40ae-afc9-b90ba99988e2"
      },
      "outputs": [
        {
          "name": "stdout",
          "output_type": "stream",
          "text": [
            "Missing values in X_test after imputation:\n",
            "Age                       0\n",
            "Systolic BP               0\n",
            "Diastolic                 0\n",
            "BS                        0\n",
            "Body Temp                 0\n",
            "BMI                       0\n",
            "Previous Complications    0\n",
            "Preexisting Diabetes      0\n",
            "Gestational Diabetes      0\n",
            "Mental Health             0\n",
            "Heart Rate                0\n",
            "dtype: int64\n"
          ]
        }
      ],
      "source": [
        "\n",
        "X_test['BMI'] = X_test['BMI'].fillna(X_train['BMI'].median())\n",
        "\n",
        "\n",
        "print(\"Missing values in X_test after imputation:\")\n",
        "print(X_test.isnull().sum())"
      ]
    },
    {
      "cell_type": "code",
      "execution_count": 76,
      "metadata": {
        "colab": {
          "base_uri": "https://localhost:8080/",
          "height": 206
        },
        "id": "6W2OSHkYckdq",
        "outputId": "2d13bf5e-d23e-49a4-b438-2c4262efe702"
      },
      "outputs": [
        {
          "data": {
            "text/html": [
              "<div>\n",
              "<style scoped>\n",
              "    .dataframe tbody tr th:only-of-type {\n",
              "        vertical-align: middle;\n",
              "    }\n",
              "\n",
              "    .dataframe tbody tr th {\n",
              "        vertical-align: top;\n",
              "    }\n",
              "\n",
              "    .dataframe thead th {\n",
              "        text-align: right;\n",
              "    }\n",
              "</style>\n",
              "<table border=\"1\" class=\"dataframe\">\n",
              "  <thead>\n",
              "    <tr style=\"text-align: right;\">\n",
              "      <th></th>\n",
              "      <th>Age</th>\n",
              "      <th>Systolic BP</th>\n",
              "      <th>Diastolic</th>\n",
              "      <th>BS</th>\n",
              "      <th>Body Temp</th>\n",
              "      <th>BMI</th>\n",
              "      <th>Previous Complications</th>\n",
              "      <th>Preexisting Diabetes</th>\n",
              "      <th>Gestational Diabetes</th>\n",
              "      <th>Mental Health</th>\n",
              "      <th>Heart Rate</th>\n",
              "    </tr>\n",
              "  </thead>\n",
              "  <tbody>\n",
              "    <tr>\n",
              "      <th>712</th>\n",
              "      <td>18</td>\n",
              "      <td>120.0</td>\n",
              "      <td>80.0</td>\n",
              "      <td>5.9</td>\n",
              "      <td>102</td>\n",
              "      <td>18.9</td>\n",
              "      <td>0.0</td>\n",
              "      <td>0.0</td>\n",
              "      <td>0</td>\n",
              "      <td>0</td>\n",
              "      <td>76.0</td>\n",
              "    </tr>\n",
              "    <tr>\n",
              "      <th>1153</th>\n",
              "      <td>16</td>\n",
              "      <td>95.0</td>\n",
              "      <td>60.0</td>\n",
              "      <td>5.0</td>\n",
              "      <td>101</td>\n",
              "      <td>24.7</td>\n",
              "      <td>0.0</td>\n",
              "      <td>1.0</td>\n",
              "      <td>0</td>\n",
              "      <td>1</td>\n",
              "      <td>60.0</td>\n",
              "    </tr>\n",
              "    <tr>\n",
              "      <th>58</th>\n",
              "      <td>48</td>\n",
              "      <td>140.0</td>\n",
              "      <td>96.0</td>\n",
              "      <td>19.0</td>\n",
              "      <td>98</td>\n",
              "      <td>27.0</td>\n",
              "      <td>0.0</td>\n",
              "      <td>1.0</td>\n",
              "      <td>0</td>\n",
              "      <td>0</td>\n",
              "      <td>86.0</td>\n",
              "    </tr>\n",
              "    <tr>\n",
              "      <th>70</th>\n",
              "      <td>39</td>\n",
              "      <td>140.0</td>\n",
              "      <td>100.0</td>\n",
              "      <td>14.0</td>\n",
              "      <td>98</td>\n",
              "      <td>25.0</td>\n",
              "      <td>1.0</td>\n",
              "      <td>1.0</td>\n",
              "      <td>0</td>\n",
              "      <td>1</td>\n",
              "      <td>78.0</td>\n",
              "    </tr>\n",
              "    <tr>\n",
              "      <th>1066</th>\n",
              "      <td>21</td>\n",
              "      <td>90.0</td>\n",
              "      <td>60.0</td>\n",
              "      <td>6.9</td>\n",
              "      <td>102</td>\n",
              "      <td>24.4</td>\n",
              "      <td>0.0</td>\n",
              "      <td>1.0</td>\n",
              "      <td>1</td>\n",
              "      <td>0</td>\n",
              "      <td>77.0</td>\n",
              "    </tr>\n",
              "  </tbody>\n",
              "</table>\n",
              "</div>"
            ],
            "text/plain": [
              "      Age  Systolic BP  Diastolic    BS  Body Temp   BMI  \\\n",
              "712    18        120.0       80.0   5.9        102  18.9   \n",
              "1153   16         95.0       60.0   5.0        101  24.7   \n",
              "58     48        140.0       96.0  19.0         98  27.0   \n",
              "70     39        140.0      100.0  14.0         98  25.0   \n",
              "1066   21         90.0       60.0   6.9        102  24.4   \n",
              "\n",
              "      Previous Complications  Preexisting Diabetes  Gestational Diabetes  \\\n",
              "712                      0.0                   0.0                     0   \n",
              "1153                     0.0                   1.0                     0   \n",
              "58                       0.0                   1.0                     0   \n",
              "70                       1.0                   1.0                     0   \n",
              "1066                     0.0                   1.0                     1   \n",
              "\n",
              "      Mental Health  Heart Rate  \n",
              "712               0        76.0  \n",
              "1153              1        60.0  \n",
              "58                0        86.0  \n",
              "70                1        78.0  \n",
              "1066              0        77.0  "
            ]
          },
          "execution_count": 76,
          "metadata": {},
          "output_type": "execute_result"
        }
      ],
      "source": [
        "X_test.head()"
      ]
    },
    {
      "cell_type": "code",
      "execution_count": 77,
      "metadata": {
        "colab": {
          "base_uri": "https://localhost:8080/",
          "height": 206
        },
        "id": "YkZ86K5TdCq8",
        "outputId": "2d0aac3b-f7ec-4494-b8dd-fa8d1a0b228d"
      },
      "outputs": [
        {
          "data": {
            "text/html": [
              "<div>\n",
              "<style scoped>\n",
              "    .dataframe tbody tr th:only-of-type {\n",
              "        vertical-align: middle;\n",
              "    }\n",
              "\n",
              "    .dataframe tbody tr th {\n",
              "        vertical-align: top;\n",
              "    }\n",
              "\n",
              "    .dataframe thead th {\n",
              "        text-align: right;\n",
              "    }\n",
              "</style>\n",
              "<table border=\"1\" class=\"dataframe\">\n",
              "  <thead>\n",
              "    <tr style=\"text-align: right;\">\n",
              "      <th></th>\n",
              "      <th>Age</th>\n",
              "      <th>Systolic BP</th>\n",
              "      <th>Diastolic</th>\n",
              "      <th>BS</th>\n",
              "      <th>Body Temp</th>\n",
              "      <th>BMI</th>\n",
              "      <th>Previous Complications</th>\n",
              "      <th>Preexisting Diabetes</th>\n",
              "      <th>Gestational Diabetes</th>\n",
              "      <th>Mental Health</th>\n",
              "      <th>Heart Rate</th>\n",
              "    </tr>\n",
              "  </thead>\n",
              "  <tbody>\n",
              "    <tr>\n",
              "      <th>0</th>\n",
              "      <td>-0.992560</td>\n",
              "      <td>0.185497</td>\n",
              "      <td>0.178142</td>\n",
              "      <td>-0.443359</td>\n",
              "      <td>3.341216</td>\n",
              "      <td>-1.020331</td>\n",
              "      <td>-0.501335</td>\n",
              "      <td>-0.633402</td>\n",
              "      <td>-0.376116</td>\n",
              "      <td>-0.633402</td>\n",
              "      <td>0.037344</td>\n",
              "    </tr>\n",
              "    <tr>\n",
              "      <th>1</th>\n",
              "      <td>-1.217073</td>\n",
              "      <td>-1.207517</td>\n",
              "      <td>-1.227771</td>\n",
              "      <td>-0.732255</td>\n",
              "      <td>2.413761</td>\n",
              "      <td>0.394745</td>\n",
              "      <td>-0.501335</td>\n",
              "      <td>1.578777</td>\n",
              "      <td>-0.376116</td>\n",
              "      <td>1.578777</td>\n",
              "      <td>-2.217742</td>\n",
              "    </tr>\n",
              "    <tr>\n",
              "      <th>2</th>\n",
              "      <td>2.375139</td>\n",
              "      <td>1.299908</td>\n",
              "      <td>1.302873</td>\n",
              "      <td>3.761691</td>\n",
              "      <td>-0.368604</td>\n",
              "      <td>0.955896</td>\n",
              "      <td>-0.501335</td>\n",
              "      <td>1.578777</td>\n",
              "      <td>-0.376116</td>\n",
              "      <td>-0.633402</td>\n",
              "      <td>1.446773</td>\n",
              "    </tr>\n",
              "    <tr>\n",
              "      <th>3</th>\n",
              "      <td>1.364829</td>\n",
              "      <td>1.299908</td>\n",
              "      <td>1.584056</td>\n",
              "      <td>2.156710</td>\n",
              "      <td>-0.368604</td>\n",
              "      <td>0.467938</td>\n",
              "      <td>1.994674</td>\n",
              "      <td>1.578777</td>\n",
              "      <td>-0.376116</td>\n",
              "      <td>1.578777</td>\n",
              "      <td>0.319230</td>\n",
              "    </tr>\n",
              "    <tr>\n",
              "      <th>4</th>\n",
              "      <td>-0.655790</td>\n",
              "      <td>-1.486119</td>\n",
              "      <td>-1.227771</td>\n",
              "      <td>-0.122363</td>\n",
              "      <td>3.341216</td>\n",
              "      <td>0.321551</td>\n",
              "      <td>-0.501335</td>\n",
              "      <td>1.578777</td>\n",
              "      <td>2.658753</td>\n",
              "      <td>-0.633402</td>\n",
              "      <td>0.178287</td>\n",
              "    </tr>\n",
              "  </tbody>\n",
              "</table>\n",
              "</div>"
            ],
            "text/plain": [
              "        Age  Systolic BP  Diastolic        BS  Body Temp       BMI  \\\n",
              "0 -0.992560     0.185497   0.178142 -0.443359   3.341216 -1.020331   \n",
              "1 -1.217073    -1.207517  -1.227771 -0.732255   2.413761  0.394745   \n",
              "2  2.375139     1.299908   1.302873  3.761691  -0.368604  0.955896   \n",
              "3  1.364829     1.299908   1.584056  2.156710  -0.368604  0.467938   \n",
              "4 -0.655790    -1.486119  -1.227771 -0.122363   3.341216  0.321551   \n",
              "\n",
              "   Previous Complications  Preexisting Diabetes  Gestational Diabetes  \\\n",
              "0               -0.501335             -0.633402             -0.376116   \n",
              "1               -0.501335              1.578777             -0.376116   \n",
              "2               -0.501335              1.578777             -0.376116   \n",
              "3                1.994674              1.578777             -0.376116   \n",
              "4               -0.501335              1.578777              2.658753   \n",
              "\n",
              "   Mental Health  Heart Rate  \n",
              "0      -0.633402    0.037344  \n",
              "1       1.578777   -2.217742  \n",
              "2      -0.633402    1.446773  \n",
              "3       1.578777    0.319230  \n",
              "4      -0.633402    0.178287  "
            ]
          },
          "execution_count": 77,
          "metadata": {},
          "output_type": "execute_result"
        }
      ],
      "source": [
        "X_test_scaled = scaler.fit_transform(X_test)\n",
        "X_test = pd.DataFrame(X_test_scaled, columns=X_test.columns)\n",
        "X_test.head()"
      ]
    },
    {
      "cell_type": "code",
      "execution_count": 78,
      "metadata": {
        "colab": {
          "base_uri": "https://localhost:8080/",
          "height": 206
        },
        "id": "_vMiGuT2i4I5",
        "outputId": "1a8dc29a-f93a-42ee-9a50-d902943a7a6e"
      },
      "outputs": [
        {
          "data": {
            "text/html": [
              "<div>\n",
              "<style scoped>\n",
              "    .dataframe tbody tr th:only-of-type {\n",
              "        vertical-align: middle;\n",
              "    }\n",
              "\n",
              "    .dataframe tbody tr th {\n",
              "        vertical-align: top;\n",
              "    }\n",
              "\n",
              "    .dataframe thead th {\n",
              "        text-align: right;\n",
              "    }\n",
              "</style>\n",
              "<table border=\"1\" class=\"dataframe\">\n",
              "  <thead>\n",
              "    <tr style=\"text-align: right;\">\n",
              "      <th></th>\n",
              "      <th>Risk Level</th>\n",
              "    </tr>\n",
              "  </thead>\n",
              "  <tbody>\n",
              "    <tr>\n",
              "      <th>0</th>\n",
              "      <td>1</td>\n",
              "    </tr>\n",
              "    <tr>\n",
              "      <th>1</th>\n",
              "      <td>0</td>\n",
              "    </tr>\n",
              "    <tr>\n",
              "      <th>2</th>\n",
              "      <td>0</td>\n",
              "    </tr>\n",
              "    <tr>\n",
              "      <th>3</th>\n",
              "      <td>0</td>\n",
              "    </tr>\n",
              "    <tr>\n",
              "      <th>4</th>\n",
              "      <td>0</td>\n",
              "    </tr>\n",
              "  </tbody>\n",
              "</table>\n",
              "</div>"
            ],
            "text/plain": [
              "   Risk Level\n",
              "0           1\n",
              "1           0\n",
              "2           0\n",
              "3           0\n",
              "4           0"
            ]
          },
          "execution_count": 78,
          "metadata": {},
          "output_type": "execute_result"
        }
      ],
      "source": [
        "\n",
        "y_test_encoded = pd.DataFrame(le.transform(y_test.values.ravel()), columns=[\"Risk Level\"])\n",
        "y_test_encoded.head()"
      ]
    },
    {
      "cell_type": "markdown",
      "metadata": {
        "id": "e4y0RcRgMazZ"
      },
      "source": [
        "### Model Fitting"
      ]
    },
    {
      "cell_type": "markdown",
      "metadata": {
        "id": "v6bQtHwaMfm-"
      },
      "source": [
        "1. Ridge Regression"
      ]
    },
    {
      "cell_type": "code",
      "execution_count": 79,
      "metadata": {
        "colab": {
          "base_uri": "https://localhost:8080/"
        },
        "id": "cBhIo2zZMfQB",
        "outputId": "6bd7ebff-ab13-491d-d6df-a13b91798fd3"
      },
      "outputs": [
        {
          "name": "stdout",
          "output_type": "stream",
          "text": [
            "\n",
            "Classification Report on  Training Data (Lasso Regularized Logistic Regression):\n",
            "              precision    recall  f1-score   support\n",
            "\n",
            "           0       0.97      0.94      0.95       380\n",
            "           1       0.96      0.98      0.97       555\n",
            "\n",
            "    accuracy                           0.96       935\n",
            "   macro avg       0.96      0.96      0.96       935\n",
            "weighted avg       0.96      0.96      0.96       935\n",
            "\n",
            "\n",
            "Classification Report on Test Data (Lasso Regularized Logistic Regression):\n",
            "              precision    recall  f1-score   support\n",
            "\n",
            "           0       0.96      0.97      0.96        93\n",
            "           1       0.98      0.97      0.98       141\n",
            "\n",
            "    accuracy                           0.97       234\n",
            "   macro avg       0.97      0.97      0.97       234\n",
            "weighted avg       0.97      0.97      0.97       234\n",
            "\n"
          ]
        }
      ],
      "source": [
        "from sklearn.linear_model import RidgeClassifier\n",
        "from sklearn.metrics import accuracy_score, classification_report, confusion_matrix\n",
        "\n",
        "from sklearn.linear_model import LogisticRegression\n",
        "\n",
        "ridge_model = RidgeClassifier()\n",
        "ridge_model.fit(X_train_scaled, y_train_encoded)\n",
        "\n",
        "# Predict on the trainign data\n",
        "y_train_pred = ridge_model.predict(X_train_scaled)\n",
        "y_test_pred = ridge_model.predict(X_test)\n",
        "\n",
        "# Calculate classification accuracy on the training data\n",
        "train_accuracy_lasso = accuracy_score(y_train_encoded,y_train_pred)\n",
        "train_accuracy_lasso = accuracy_score(y_test_encoded,y_test_pred)\n",
        "\n",
        "#print(f\"Classification Accuracy on SMOTE Training Data (Lasso Regularized Logistic Regression): {train_accuracy_lasso:.4f}\")\n",
        "\n",
        "print(\"\\nClassification Report on  Training Data (Lasso Regularized Logistic Regression):\")\n",
        "print(classification_report(y_train_encoded,y_train_pred))\n",
        "\n",
        "print(\"\\nClassification Report on Test Data (Lasso Regularized Logistic Regression):\")\n",
        "print(classification_report(y_test_encoded,y_test_pred))\n"
      ]
    },
    {
      "cell_type": "code",
      "execution_count": 80,
      "metadata": {
        "colab": {
          "base_uri": "https://localhost:8080/"
        },
        "id": "WRjt6P0fTcpY",
        "outputId": "de1cb2f3-160d-491c-c5a2-85771e8d2874"
      },
      "outputs": [
        {
          "name": "stdout",
          "output_type": "stream",
          "text": [
            "\n",
            "Classification Report on  Training Data (Lasso Regularized Logistic Regression):\n",
            "              precision    recall  f1-score   support\n",
            "\n",
            "           0       0.96      0.92      0.94       555\n",
            "           1       0.93      0.97      0.95       555\n",
            "\n",
            "    accuracy                           0.94      1110\n",
            "   macro avg       0.94      0.94      0.94      1110\n",
            "weighted avg       0.94      0.94      0.94      1110\n",
            "\n",
            "\n",
            "Classification Report on Test Data (Lasso Regularized Logistic Regression):\n",
            "              precision    recall  f1-score   support\n",
            "\n",
            "           0       0.96      0.99      0.97        93\n",
            "           1       0.99      0.97      0.98       141\n",
            "\n",
            "    accuracy                           0.98       234\n",
            "   macro avg       0.98      0.98      0.98       234\n",
            "weighted avg       0.98      0.98      0.98       234\n",
            "\n"
          ]
        }
      ],
      "source": [
        "from sklearn.linear_model import RidgeClassifier\n",
        "from sklearn.metrics import accuracy_score, classification_report, confusion_matrix\n",
        "\n",
        "from sklearn.linear_model import LogisticRegression\n",
        "\n",
        "ridge_model = RidgeClassifier()\n",
        "ridge_model.fit(X_train_s_scaled, y_train_smote_encoded)\n",
        "\n",
        "# Predict on the trainign data\n",
        "y_train_pred = ridge_model.predict(X_train_s_scaled)\n",
        "y_test_pred = ridge_model.predict(X_test)\n",
        "\n",
        "# Calculate classification accuracy on the training data\n",
        "train_accuracy_lasso = accuracy_score(y_train_smote_encoded,y_train_pred)\n",
        "train_accuracy_lasso = accuracy_score(y_test_encoded,y_test_pred)\n",
        "\n",
        "#print(f\"Classification Accuracy on SMOTE Training Data (Lasso Regularized Logistic Regression): {train_accuracy_lasso:.4f}\")\n",
        "\n",
        "print(\"\\nClassification Report on  Training Data (Lasso Regularized Logistic Regression):\")\n",
        "print(classification_report(y_train_smote_encoded,y_train_pred))\n",
        "\n",
        "print(\"\\nClassification Report on Test Data (Lasso Regularized Logistic Regression):\")\n",
        "print(classification_report(y_test_encoded,y_test_pred))"
      ]
    },
    {
      "cell_type": "markdown",
      "metadata": {
        "id": "ZtPRuqSpMiyD"
      },
      "source": [
        "2. Lasso Regression"
      ]
    },
    {
      "cell_type": "code",
      "execution_count": 81,
      "metadata": {
        "colab": {
          "base_uri": "https://localhost:8080/"
        },
        "id": "wYyQU3fOUR5u",
        "outputId": "9a75ad6b-2143-405a-f5db-87c47c90e47e"
      },
      "outputs": [
        {
          "name": "stdout",
          "output_type": "stream",
          "text": [
            "\n",
            "Classification Report on  Training Data (Lasso Regularized Logistic Regression):\n",
            "              precision    recall  f1-score   support\n",
            "\n",
            "           0       0.96      0.96      0.96       380\n",
            "           1       0.97      0.97      0.97       555\n",
            "\n",
            "    accuracy                           0.97       935\n",
            "   macro avg       0.97      0.97      0.97       935\n",
            "weighted avg       0.97      0.97      0.97       935\n",
            "\n",
            "\n",
            "Classification Report on Test Data (Lasso Regularized Logistic Regression):\n",
            "              precision    recall  f1-score   support\n",
            "\n",
            "           0       0.98      0.98      0.98        93\n",
            "           1       0.99      0.99      0.99       141\n",
            "\n",
            "    accuracy                           0.98       234\n",
            "   macro avg       0.98      0.98      0.98       234\n",
            "weighted avg       0.98      0.98      0.98       234\n",
            "\n"
          ]
        }
      ],
      "source": [
        "lasso_model = LogisticRegression(penalty='l1', solver='liblinear', C=1.0, random_state=42, max_iter=1000)\n",
        "lasso_model.fit(X_train_scaled, y_train_encoded)\n",
        "\n",
        "# Predict on the trainign data\n",
        "y_train_pred_lasso = lasso_model.predict(X_train_scaled)\n",
        "y_test_pred_lasso = lasso_model.predict(X_test)\n",
        "\n",
        "# Calculate classification accuracy on the training data\n",
        "train_accuracy_lasso = accuracy_score(y_train_encoded,y_train_pred_lasso)\n",
        "train_accuracy_lasso = accuracy_score(y_test_encoded\n",
        "                                      ,y_test_pred_lasso)\n",
        "\n",
        "#print(f\"Classification Accuracy on SMOTE Training Data (Lasso Regularized Logistic Regression): {train_accuracy_lasso:.4f}\")\n",
        "\n",
        "print(\"\\nClassification Report on  Training Data (Lasso Regularized Logistic Regression):\")\n",
        "print(classification_report(y_train_encoded,y_train_pred_lasso))\n",
        "\n",
        "print(\"\\nClassification Report on Test Data (Lasso Regularized Logistic Regression):\")\n",
        "print(classification_report(y_test_encoded,y_test_pred_lasso))\n",
        "\n",
        "\n"
      ]
    },
    {
      "cell_type": "code",
      "execution_count": 82,
      "metadata": {
        "colab": {
          "base_uri": "https://localhost:8080/"
        },
        "id": "WI8z5xX5MlYL",
        "outputId": "cc28020f-b54d-4d28-8948-1b96db8ff74b"
      },
      "outputs": [
        {
          "name": "stdout",
          "output_type": "stream",
          "text": [
            "Best Parameters: {'C': 0.1, 'max_iter': 500, 'solver': 'liblinear'}\n",
            "\n",
            "Training Accuracy: 0.9711\n",
            "Test Accuracy: 0.9786\n",
            "\n",
            "Classification Report on Training Data:\n",
            "              precision    recall  f1-score   support\n",
            "\n",
            "           0       0.97      0.96      0.96       380\n",
            "           1       0.97      0.98      0.98       555\n",
            "\n",
            "    accuracy                           0.97       935\n",
            "   macro avg       0.97      0.97      0.97       935\n",
            "weighted avg       0.97      0.97      0.97       935\n",
            "\n",
            "\n",
            "Classification Report on Test Data:\n",
            "              precision    recall  f1-score   support\n",
            "\n",
            "           0       0.97      0.98      0.97        93\n",
            "           1       0.99      0.98      0.98       141\n",
            "\n",
            "    accuracy                           0.98       234\n",
            "   macro avg       0.98      0.98      0.98       234\n",
            "weighted avg       0.98      0.98      0.98       234\n",
            "\n"
          ]
        }
      ],
      "source": [
        "from sklearn.linear_model import LogisticRegression\n",
        "from sklearn.model_selection import GridSearchCV\n",
        "from sklearn.metrics import classification_report, accuracy_score\n",
        "\n",
        "# Define the parameter grid for tuning\n",
        "param_grid = {\n",
        "    'C': [0.01, 0.1, 1, 10, 100],   # Regularization strength\n",
        "    'solver': ['liblinear', 'saga'],  # solvers that support L1\n",
        "    'max_iter': [500, 1000, 2000]     # iterations to ensure convergence\n",
        "}\n",
        "\n",
        "# Create Logistic Regression model\n",
        "lasso_model = LogisticRegression(penalty='l1', random_state=42)\n",
        "\n",
        "# Apply GridSearchCV\n",
        "grid_search = GridSearchCV(\n",
        "    estimator=lasso_model,\n",
        "    param_grid=param_grid,\n",
        "    cv=5,                # 5-fold cross-validation\n",
        "    scoring='accuracy',  # metric for model selection\n",
        "    n_jobs=-1            # use all CPU cores\n",
        ")\n",
        "\n",
        "# Fit grid search on training data\n",
        "grid_search.fit(X_train_scaled, y_train_encoded.values.ravel())\n",
        "\n",
        "# Best parameters and estimator\n",
        "print(\"Best Parameters:\", grid_search.best_params_)\n",
        "best_model = grid_search.best_estimator_\n",
        "\n",
        "# Predictions\n",
        "y_train_pred_lasso = best_model.predict(X_train_scaled)\n",
        "y_test_pred_lasso = best_model.predict(X_test)\n",
        "\n",
        "# Evaluation\n",
        "train_accuracy = accuracy_score(y_train_encoded, y_train_pred_lasso)\n",
        "test_accuracy = accuracy_score(y_test_encoded, y_test_pred_lasso)\n",
        "\n",
        "print(f\"\\nTraining Accuracy: {train_accuracy:.4f}\")\n",
        "print(f\"Test Accuracy: {test_accuracy:.4f}\")\n",
        "\n",
        "print(\"\\nClassification Report on Training Data:\")\n",
        "print(classification_report(y_train_encoded, y_train_pred_lasso))\n",
        "\n",
        "print(\"\\nClassification Report on Test Data:\")\n",
        "print(classification_report(y_test_encoded, y_test_pred_lasso))\n"
      ]
    },
    {
      "cell_type": "markdown",
      "metadata": {
        "id": "7LmOyBn-MmFy"
      },
      "source": [
        "3. Naive Bayes"
      ]
    },
    {
      "cell_type": "code",
      "execution_count": 83,
      "metadata": {
        "colab": {
          "base_uri": "https://localhost:8080/"
        },
        "id": "MLPg7Sr8MpR5",
        "outputId": "3891d612-13ef-4ece-d17c-26ebbe0987a0"
      },
      "outputs": [
        {
          "name": "stdout",
          "output_type": "stream",
          "text": [
            "\n",
            "Classification Report on  Training Data \n",
            "0.9497326203208556\n",
            "              precision    recall  f1-score   support\n",
            "\n",
            "           0       0.98      0.89      0.94       380\n",
            "           1       0.93      0.99      0.96       555\n",
            "\n",
            "    accuracy                           0.95       935\n",
            "   macro avg       0.96      0.94      0.95       935\n",
            "weighted avg       0.95      0.95      0.95       935\n",
            "\n",
            "\n",
            "Classification Report on Test Data\n",
            "0.3974358974358974\n",
            "              precision    recall  f1-score   support\n",
            "\n",
            "           0       0.40      1.00      0.57        93\n",
            "           1       0.00      0.00      0.00       141\n",
            "\n",
            "    accuracy                           0.40       234\n",
            "   macro avg       0.20      0.50      0.28       234\n",
            "weighted avg       0.16      0.40      0.23       234\n",
            "\n"
          ]
        }
      ],
      "source": [
        "from sklearn.naive_bayes import GaussianNB\n",
        "from sklearn.metrics import classification_report,accuracy_score,confusion_matrix\n",
        "import warnings\n",
        "\n",
        "clf =GaussianNB()\n",
        "# Flatten y_train_encoded before fitting\n",
        "clf.fit(X_train_scaled,y_train_encoded.values.ravel())\n",
        "\n",
        "\n",
        "#Predict on the training data\n",
        "y_train_pred = clf.predict(X_train_scaled)\n",
        "y_test_pred = clf.predict(X_test)\n",
        "\n",
        "# Calculate classification accuracy on the training data\n",
        "train_accuracy = accuracy_score(y_train_encoded.values.ravel(),y_train_pred) # Flatten y_train_encoded for accuracy_score\n",
        "test_accuracy= accuracy_score(y_test_encoded.values.ravel(),y_test_pred) # Flatten y_test_encoded for accuracy_score\n",
        "\n",
        "\n",
        "print(\"\\nClassification Report on  Training Data \")\n",
        "print(train_accuracy)\n",
        "print(classification_report(y_train_encoded,y_train_pred)) # Flatten y_train_encoded for classification_report\n",
        "\n",
        "print(\"\\nClassification Report on Test Data\")\n",
        "print(test_accuracy)\n",
        "print(classification_report(y_test_encoded,y_test_pred)) # Flatten y_test_encoded for classification_report\n",
        "\n",
        "\n",
        "warnings.filterwarnings('ignore')"
      ]
    },
    {
      "cell_type": "code",
      "execution_count": 84,
      "metadata": {
        "colab": {
          "base_uri": "https://localhost:8080/"
        },
        "id": "4HH0trvkQBQC",
        "outputId": "3aeb37ec-80e8-44ad-81bf-9822c9901b0c"
      },
      "outputs": [
        {
          "name": "stdout",
          "output_type": "stream",
          "text": [
            "\n",
            "Classification Report on  Training Data \n",
            "0.927027027027027\n",
            "              precision    recall  f1-score   support\n",
            "\n",
            "           0       0.98      0.87      0.92       555\n",
            "           1       0.88      0.98      0.93       555\n",
            "\n",
            "    accuracy                           0.93      1110\n",
            "   macro avg       0.93      0.93      0.93      1110\n",
            "weighted avg       0.93      0.93      0.93      1110\n",
            "\n",
            "\n",
            "Classification Report on Test Data\n",
            "0.3974358974358974\n",
            "              precision    recall  f1-score   support\n",
            "\n",
            "           0       0.40      1.00      0.57        93\n",
            "           1       0.00      0.00      0.00       141\n",
            "\n",
            "    accuracy                           0.40       234\n",
            "   macro avg       0.20      0.50      0.28       234\n",
            "weighted avg       0.16      0.40      0.23       234\n",
            "\n"
          ]
        }
      ],
      "source": [
        "from sklearn.naive_bayes import GaussianNB\n",
        "from sklearn.metrics import classification_report,accuracy_score,confusion_matrix\n",
        "import warnings\n",
        "\n",
        "clf =GaussianNB()\n",
        "# Flatten y_train_encoded before fitting\n",
        "clf.fit(X_train_s_scaled,y_train_smote_encoded)\n",
        "\n",
        "\n",
        "#Predict on the training data\n",
        "y_train_pred = clf.predict(X_train_s_scaled)\n",
        "y_test_pred = clf.predict(X_test)\n",
        "\n",
        "# Calculate classification accuracy on the training data\n",
        "train_accuracy = accuracy_score(y_train_smote_encoded.values.ravel(),y_train_pred) # Flatten y_train_encoded for accuracy_score\n",
        "test_accuracy= accuracy_score(y_test_encoded.values.ravel(),y_test_pred) # Flatten y_test_encoded for accuracy_score\n",
        "\n",
        "\n",
        "print(\"\\nClassification Report on  Training Data \")\n",
        "print(train_accuracy)\n",
        "print(classification_report(y_train_smote_encoded.values.ravel(),y_train_pred)) # Flatten y_train_encoded for classification_report\n",
        "\n",
        "print(\"\\nClassification Report on Test Data\")\n",
        "print(test_accuracy)\n",
        "print(classification_report(y_test_encoded.values.ravel(),y_test_pred)) # Flatten y_test_encoded for classification_report\n",
        "\n",
        "\n",
        "warnings.filterwarnings('ignore')"
      ]
    },
    {
      "cell_type": "code",
      "execution_count": 85,
      "metadata": {
        "colab": {
          "base_uri": "https://localhost:8080/"
        },
        "id": "qR7X-RUdQRxK",
        "outputId": "2a562fea-5e20-4765-a895-66d729216061"
      },
      "outputs": [
        {
          "name": "stdout",
          "output_type": "stream",
          "text": [
            "Best Parameters: {'var_smoothing': 0.1}\n",
            "\n",
            "Classification Report on Training Data\n",
            "Training Accuracy: 0.9668449197860962\n",
            "              precision    recall  f1-score   support\n",
            "\n",
            "           0       0.96      0.96      0.96       380\n",
            "           1       0.97      0.97      0.97       555\n",
            "\n",
            "    accuracy                           0.97       935\n",
            "   macro avg       0.97      0.97      0.97       935\n",
            "weighted avg       0.97      0.97      0.97       935\n",
            "\n",
            "\n",
            "Classification Report on Test Data\n",
            "Test Accuracy: 0.9786324786324786\n",
            "              precision    recall  f1-score   support\n",
            "\n",
            "           0       0.97      0.98      0.97        93\n",
            "           1       0.99      0.98      0.98       141\n",
            "\n",
            "    accuracy                           0.98       234\n",
            "   macro avg       0.98      0.98      0.98       234\n",
            "weighted avg       0.98      0.98      0.98       234\n",
            "\n"
          ]
        }
      ],
      "source": [
        "\n",
        "\n",
        "from sklearn.model_selection import GridSearchCV\n",
        "\n",
        "\n",
        "# Define hyperparameter grid\n",
        "param_grid = {\n",
        "    'var_smoothing': [1e-09, 1e-08, 1e-07, 1e-06, 1e-05, 1e-04, 1e-03, 1e-02, 1e-01, 1]\n",
        "}\n",
        "\n",
        "# GridSearchCV with 5-fold cross-validation\n",
        "grid_search = GridSearchCV(clf, param_grid, cv=5, scoring='accuracy', n_jobs=-1)\n",
        "\n",
        "# Fit on training data\n",
        "grid_search.fit(X_train_scaled, y_train_encoded)\n",
        "\n",
        "# Best parameters & model\n",
        "print(\"Best Parameters:\", grid_search.best_params_)\n",
        "best_clf = grid_search.best_estimator_\n",
        "\n",
        "# Predictions\n",
        "y_train_pred = best_clf.predict(X_train_scaled)\n",
        "y_test_pred = best_clf.predict(X_test)\n",
        "\n",
        "# Accuracy\n",
        "train_accuracy = accuracy_score(y_train_encoded, y_train_pred)\n",
        "test_accuracy = accuracy_score(y_test_encoded, y_test_pred)\n",
        "\n",
        "print(\"\\nClassification Report on Training Data\")\n",
        "print(\"Training Accuracy:\", train_accuracy)\n",
        "print(classification_report(y_train_encoded, y_train_pred))\n",
        "\n",
        "print(\"\\nClassification Report on Test Data\")\n",
        "print(\"Test Accuracy:\", test_accuracy)\n",
        "print(classification_report(y_test_encoded, y_test_pred))\n"
      ]
    },
    {
      "cell_type": "markdown",
      "metadata": {},
      "source": [
        "### 4.  KNN"
      ]
    },
    {
      "cell_type": "code",
      "execution_count": 87,
      "metadata": {},
      "outputs": [],
      "source": [
        "from sklearn.neighbors import KNeighborsClassifier\n",
        "from sklearn.model_selection import GridSearchCV\n",
        "from sklearn.metrics import classification_report, confusion_matrix, accuracy_score\n",
        "param_grid_knn = {\n",
        "    'n_neighbors': [3, 5, 7, 9, 11],\n",
        "    'weights': ['uniform', 'distance'],\n",
        "    'metric': ['euclidean', 'manhattan', 'minkowski']\n",
        "}"
      ]
    },
    {
      "cell_type": "code",
      "execution_count": 88,
      "metadata": {},
      "outputs": [
        {
          "name": "stdout",
          "output_type": "stream",
          "text": [
            "Best parameters for original data KNN: {'metric': 'manhattan', 'n_neighbors': 3, 'weights': 'uniform'}\n",
            "Best CV accuracy for original data KNN: 0.976470588235294\n"
          ]
        }
      ],
      "source": [
        "# for original data\n",
        "knn_orig = KNeighborsClassifier()\n",
        "\n",
        "grid_knn_orig = GridSearchCV(knn_orig,\n",
        "                             param_grid_knn,\n",
        "                             cv=5,\n",
        "                             scoring='accuracy',\n",
        "                             n_jobs=-1)\n",
        "\n",
        "grid_knn_orig.fit(X_train_scaled, y_train_encoded.values.ravel())\n",
        "\n",
        "print(\"Best parameters for original data KNN:\", grid_knn_orig.best_params_)\n",
        "print(\"Best CV accuracy for original data KNN:\", grid_knn_orig.best_score_)\n"
      ]
    },
    {
      "cell_type": "code",
      "execution_count": 89,
      "metadata": {},
      "outputs": [
        {
          "name": "stdout",
          "output_type": "stream",
          "text": [
            "Classification report for original test data KNN:\n",
            "              precision    recall  f1-score   support\n",
            "\n",
            "           0       0.95      0.98      0.96        93\n",
            "           1       0.99      0.96      0.97       141\n",
            "\n",
            "    accuracy                           0.97       234\n",
            "   macro avg       0.97      0.97      0.97       234\n",
            "weighted avg       0.97      0.97      0.97       234\n",
            "\n",
            "Confusion Matrix:\n",
            "[[ 91   2]\n",
            " [  5 136]]\n"
          ]
        }
      ],
      "source": [
        "y_pred_knn_orig = grid_knn_orig.predict(X_test)\n",
        "print(\"Classification report for original test data KNN:\")\n",
        "print(classification_report(y_test_encoded, y_pred_knn_orig))\n",
        "print(\"Confusion Matrix:\")\n",
        "print(confusion_matrix(y_test_encoded, y_pred_knn_orig))"
      ]
    },
    {
      "cell_type": "code",
      "execution_count": 90,
      "metadata": {},
      "outputs": [
        {
          "name": "stdout",
          "output_type": "stream",
          "text": [
            "Best parameters for SMOTE data KNN: {'metric': 'manhattan', 'n_neighbors': 5, 'weights': 'distance'}\n",
            "Best CV accuracy for SMOTE data KNN: 0.9702702702702701\n"
          ]
        }
      ],
      "source": [
        "## for SMOTE data\n",
        "knn_smote = KNeighborsClassifier()\n",
        "\n",
        "grid_knn_smote = GridSearchCV(knn_smote,\n",
        "                              param_grid_knn,\n",
        "                              cv=5,\n",
        "                              scoring='accuracy',\n",
        "                              n_jobs=-1)\n",
        "\n",
        "grid_knn_smote.fit(X_train_s_scaled, y_train_smote_encoded.values.ravel())\n",
        "\n",
        "print(\"Best parameters for SMOTE data KNN:\", grid_knn_smote.best_params_)\n",
        "print(\"Best CV accuracy for SMOTE data KNN:\", grid_knn_smote.best_score_)"
      ]
    },
    {
      "cell_type": "code",
      "execution_count": 91,
      "metadata": {},
      "outputs": [
        {
          "name": "stdout",
          "output_type": "stream",
          "text": [
            "Classification report for SMOTE training data KNN:\n",
            "              precision    recall  f1-score   support\n",
            "\n",
            "           0       1.00      1.00      1.00       555\n",
            "           1       1.00      1.00      1.00       555\n",
            "\n",
            "    accuracy                           1.00      1110\n",
            "   macro avg       1.00      1.00      1.00      1110\n",
            "weighted avg       1.00      1.00      1.00      1110\n",
            "\n",
            "Confusion Matrix:\n",
            "[[555   0]\n",
            " [  0 555]]\n"
          ]
        }
      ],
      "source": [
        "y_pred_knn_smote_train = grid_knn_smote.predict(X_train_s_scaled)\n",
        "print(\"Classification report for SMOTE training data KNN:\")\n",
        "print(classification_report(y_train_smote_encoded, y_pred_knn_smote_train))\n",
        "print(\"Confusion Matrix:\")\n",
        "print(confusion_matrix(y_train_smote_encoded, y_pred_knn_smote_train))"
      ]
    },
    {
      "cell_type": "code",
      "execution_count": 92,
      "metadata": {},
      "outputs": [
        {
          "name": "stdout",
          "output_type": "stream",
          "text": [
            "Classification report for original training data KNN:\n",
            "              precision    recall  f1-score   support\n",
            "\n",
            "           0       0.99      0.98      0.99       380\n",
            "           1       0.99      0.99      0.99       555\n",
            "\n",
            "    accuracy                           0.99       935\n",
            "   macro avg       0.99      0.99      0.99       935\n",
            "weighted avg       0.99      0.99      0.99       935\n",
            "\n",
            "Confusion Matrix:\n",
            "[[374   6]\n",
            " [  5 550]]\n"
          ]
        }
      ],
      "source": [
        "y_pred_knn_orig_train = grid_knn_orig.predict(X_train_scaled)\n",
        "print(\"Classification report for original training data KNN:\")\n",
        "print(classification_report(y_train_encoded, y_pred_knn_orig_train))\n",
        "print(\"Confusion Matrix:\")\n",
        "print(confusion_matrix(y_train_encoded, y_pred_knn_orig_train))"
      ]
    },
    {
      "cell_type": "code",
      "execution_count": 93,
      "metadata": {},
      "outputs": [
        {
          "name": "stdout",
          "output_type": "stream",
          "text": [
            "Classification report for SMOTE test data KNN:\n",
            "              precision    recall  f1-score   support\n",
            "\n",
            "           0       0.95      0.99      0.97        93\n",
            "           1       0.99      0.96      0.98       141\n",
            "\n",
            "    accuracy                           0.97       234\n",
            "   macro avg       0.97      0.98      0.97       234\n",
            "weighted avg       0.98      0.97      0.97       234\n",
            "\n",
            "Confusion Matrix:\n",
            "[[ 92   1]\n",
            " [  5 136]]\n"
          ]
        }
      ],
      "source": [
        "y_pred_knn_smote = grid_knn_smote.predict(X_test)\n",
        "print(\"Classification report for SMOTE test data KNN:\")\n",
        "print(classification_report(y_test_encoded, y_pred_knn_smote))\n",
        "print(\"Confusion Matrix:\")\n",
        "print(confusion_matrix(y_test_encoded, y_pred_knn_smote))"
      ]
    },
    {
      "cell_type": "markdown",
      "metadata": {},
      "source": [
        "### 5. SVM"
      ]
    },
    {
      "cell_type": "code",
      "execution_count": 94,
      "metadata": {},
      "outputs": [],
      "source": [
        "from sklearn.svm import SVC\n",
        "from sklearn.model_selection import GridSearchCV\n",
        "from sklearn.metrics import classification_report, confusion_matrix, accuracy_score\n",
        "\n",
        "param_grid = {\n",
        "    'C': [0.1, 1, 10],\n",
        "    'kernel': ['linear', 'rbf', 'poly'],\n",
        "    'gamma': ['scale', 'auto']\n",
        "}\n"
      ]
    },
    {
      "cell_type": "code",
      "execution_count": 95,
      "metadata": {},
      "outputs": [
        {
          "name": "stdout",
          "output_type": "stream",
          "text": [
            "Best parameters for original data: {'C': 10, 'gamma': 'scale', 'kernel': 'rbf'}\n",
            "Best CV accuracy for original data: 0.9764705882352942\n",
            "\n",
            "Classification report for original training data:\n",
            "              precision    recall  f1-score   support\n",
            "\n",
            "           0       1.00      0.99      0.99       380\n",
            "           1       0.99      1.00      1.00       555\n",
            "\n",
            "    accuracy                           1.00       935\n",
            "   macro avg       1.00      1.00      1.00       935\n",
            "weighted avg       1.00      1.00      1.00       935\n",
            "\n",
            "Confusion Matrix:\n",
            "[[377   3]\n",
            " [  1 554]]\n",
            "\n",
            "Classification report for original test data:\n",
            "              precision    recall  f1-score   support\n",
            "\n",
            "           0       0.95      0.99      0.97        93\n",
            "           1       0.99      0.96      0.98       141\n",
            "\n",
            "    accuracy                           0.97       234\n",
            "   macro avg       0.97      0.98      0.97       234\n",
            "weighted avg       0.98      0.97      0.97       234\n",
            "\n",
            "Confusion Matrix:\n",
            "[[ 92   1]\n",
            " [  5 136]]\n"
          ]
        }
      ],
      "source": [
        "\n",
        "# Fit SVM on original data\n",
        "\n",
        "svm_orig = SVC(random_state=42)\n",
        "\n",
        "grid_orig = GridSearchCV(svm_orig, param_grid, cv=5, scoring='accuracy', n_jobs=-1)\n",
        "grid_orig.fit(X_train_scaled, y_train_encoded.values.ravel())\n",
        "\n",
        "print(\"Best parameters for original data:\", grid_orig.best_params_)\n",
        "print(\"Best CV accuracy for original data:\", grid_orig.best_score_)\n",
        "\n",
        "# Predictions and evaluation\n",
        "\n",
        "# On training data\n",
        "y_pred_orig_train = grid_orig.predict(X_train_scaled)\n",
        "print(\"\\nClassification report for original training data:\")\n",
        "print(classification_report(y_train_encoded, y_pred_orig_train))\n",
        "print(\"Confusion Matrix:\")\n",
        "print(confusion_matrix(y_train_encoded, y_pred_orig_train))\n",
        "\n",
        "# On test data\n",
        "y_pred_orig = grid_orig.predict(X_test)\n",
        "print(\"\\nClassification report for original test data:\")\n",
        "print(classification_report(y_test_encoded, y_pred_orig))\n",
        "print(\"Confusion Matrix:\")\n",
        "print(confusion_matrix(y_test_encoded, y_pred_orig))"
      ]
    },
    {
      "cell_type": "code",
      "execution_count": 96,
      "metadata": {},
      "outputs": [
        {
          "name": "stdout",
          "output_type": "stream",
          "text": [
            "\n",
            "Best parameters for SMOTE data: {'C': 10, 'gamma': 'scale', 'kernel': 'rbf'}\n",
            "Best CV accuracy for SMOTE data: 0.9693693693693695\n",
            "\n",
            "Classification report for SMOTE training data:\n",
            "              precision    recall  f1-score   support\n",
            "\n",
            "           0       0.99      1.00      1.00       555\n",
            "           1       1.00      0.99      1.00       555\n",
            "\n",
            "    accuracy                           1.00      1110\n",
            "   macro avg       1.00      1.00      1.00      1110\n",
            "weighted avg       1.00      1.00      1.00      1110\n",
            "\n",
            "Confusion Matrix:\n",
            "[[554   1]\n",
            " [  3 552]]\n",
            "\n",
            "Classification report for SMOTE testing data:\n",
            "              precision    recall  f1-score   support\n",
            "\n",
            "           0       0.94      0.99      0.96        93\n",
            "           1       0.99      0.96      0.97       141\n",
            "\n",
            "    accuracy                           0.97       234\n",
            "   macro avg       0.97      0.97      0.97       234\n",
            "weighted avg       0.97      0.97      0.97       234\n",
            "\n",
            "Confusion Matrix:\n",
            "[[ 92   1]\n",
            " [  6 135]]\n"
          ]
        }
      ],
      "source": [
        "\n",
        "# Fit SVM on SMOTE data\n",
        "\n",
        "svm_smote = SVC(random_state=42)\n",
        "\n",
        "grid_smote = GridSearchCV(svm_smote, param_grid, cv=5, scoring='accuracy', n_jobs=-1)\n",
        "grid_smote.fit(X_train_s_scaled, y_train_smote_encoded.values.ravel())\n",
        "\n",
        "print(\"\\nBest parameters for SMOTE data:\", grid_smote.best_params_)\n",
        "print(\"Best CV accuracy for SMOTE data:\", grid_smote.best_score_)\n",
        "\n",
        "# Predictions and evaluation\n",
        "\n",
        "# On training data (use SMOTE-balanced set)\n",
        "y_pred_smote_train = grid_smote.predict(X_train_s_scaled)\n",
        "print(\"\\nClassification report for SMOTE training data:\")\n",
        "print(classification_report(y_train_smote_encoded, y_pred_smote_train))\n",
        "print(\"Confusion Matrix:\")\n",
        "print(confusion_matrix(y_train_smote_encoded, y_pred_smote_train))\n",
        "\n",
        "# On test data\n",
        "y_pred_smote = grid_smote.predict(X_test)\n",
        "print(\"\\nClassification report for SMOTE testing data:\")\n",
        "print(classification_report(y_test_encoded, y_pred_smote))\n",
        "print(\"Confusion Matrix:\")\n",
        "print(confusion_matrix(y_test_encoded, y_pred_smote))"
      ]
    },
    {
      "cell_type": "markdown",
      "metadata": {},
      "source": [
        "### Random Forest "
      ]
    },
    {
      "cell_type": "code",
      "execution_count": 97,
      "metadata": {},
      "outputs": [],
      "source": [
        "from sklearn.ensemble import RandomForestClassifier\n",
        "from sklearn.model_selection import GridSearchCV\n",
        "from sklearn.metrics import classification_report, confusion_matrix, accuracy_score\n",
        "\n",
        "# Define hyperparameter grid for Random Forest\n",
        "param_grid_rf = {\n",
        "    'n_estimators': [100, 200, 500],\n",
        "    'max_depth': [None, 10, 20],\n",
        "    'min_samples_split': [2, 5, 10],\n",
        "    'min_samples_leaf': [1, 2, 4],\n",
        "    'max_features': ['sqrt', 'log2']\n",
        "}\n"
      ]
    },
    {
      "cell_type": "code",
      "execution_count": 98,
      "metadata": {},
      "outputs": [
        {
          "name": "stdout",
          "output_type": "stream",
          "text": [
            "Best parameters for original data RF: {'max_depth': 10, 'max_features': 'sqrt', 'min_samples_leaf': 1, 'min_samples_split': 2, 'n_estimators': 100}\n",
            "Best CV accuracy for original data RF: 0.990374331550802\n",
            "\n",
            "Classification report for original training data RF:\n",
            "              precision    recall  f1-score   support\n",
            "\n",
            "           0       1.00      1.00      1.00       380\n",
            "           1       1.00      1.00      1.00       555\n",
            "\n",
            "    accuracy                           1.00       935\n",
            "   macro avg       1.00      1.00      1.00       935\n",
            "weighted avg       1.00      1.00      1.00       935\n",
            "\n",
            "Confusion Matrix:\n",
            "[[380   0]\n",
            " [  0 555]]\n",
            "\n",
            "Classification report for original test data RF:\n",
            "              precision    recall  f1-score   support\n",
            "\n",
            "           0       0.96      0.99      0.97        93\n",
            "           1       0.99      0.97      0.98       141\n",
            "\n",
            "    accuracy                           0.98       234\n",
            "   macro avg       0.98      0.98      0.98       234\n",
            "weighted avg       0.98      0.98      0.98       234\n",
            "\n",
            "Confusion Matrix:\n",
            "[[ 92   1]\n",
            " [  4 137]]\n"
          ]
        }
      ],
      "source": [
        "\n",
        "# Fit Random Forest on original data\n",
        "\n",
        "rf_orig = RandomForestClassifier(random_state=42)\n",
        "\n",
        "grid_rf_orig = GridSearchCV(rf_orig, param_grid_rf, cv=5, scoring='accuracy', n_jobs=-1)\n",
        "grid_rf_orig.fit(X_train_scaled, y_train_encoded.values.ravel())\n",
        "\n",
        "print(\"Best parameters for original data RF:\", grid_rf_orig.best_params_)\n",
        "print(\"Best CV accuracy for original data RF:\", grid_rf_orig.best_score_)\n",
        "\n",
        "# Predictions and evaluation\n",
        "\n",
        "# On training data\n",
        "y_pred_rf_orig_train = grid_rf_orig.predict(X_train_scaled)\n",
        "print(\"\\nClassification report for original training data RF:\")\n",
        "print(classification_report(y_train_encoded, y_pred_rf_orig_train))\n",
        "print(\"Confusion Matrix:\")\n",
        "print(confusion_matrix(y_train_encoded, y_pred_rf_orig_train))\n",
        "\n",
        "# On test data\n",
        "y_pred_rf_orig = grid_rf_orig.predict(X_test)\n",
        "print(\"\\nClassification report for original test data RF:\")\n",
        "print(classification_report(y_test_encoded, y_pred_rf_orig))\n",
        "print(\"Confusion Matrix:\")\n",
        "print(confusion_matrix(y_test_encoded, y_pred_rf_orig))"
      ]
    },
    {
      "cell_type": "code",
      "execution_count": 99,
      "metadata": {},
      "outputs": [
        {
          "name": "stdout",
          "output_type": "stream",
          "text": [
            "\n",
            "Best parameters for SMOTE data RF: {'max_depth': 10, 'max_features': 'sqrt', 'min_samples_leaf': 1, 'min_samples_split': 5, 'n_estimators': 200}\n",
            "Best CV accuracy for SMOTE data RF: 0.9873873873873874\n",
            "\n",
            "Classification report for SMOTE training data RF:\n",
            "              precision    recall  f1-score   support\n",
            "\n",
            "           0       1.00      1.00      1.00       555\n",
            "           1       1.00      1.00      1.00       555\n",
            "\n",
            "    accuracy                           1.00      1110\n",
            "   macro avg       1.00      1.00      1.00      1110\n",
            "weighted avg       1.00      1.00      1.00      1110\n",
            "\n",
            "Confusion Matrix:\n",
            "[[555   0]\n",
            " [  0 555]]\n",
            "\n",
            "Classification report for SMOTE test data RF:\n",
            "              precision    recall  f1-score   support\n",
            "\n",
            "           0       0.56      1.00      0.72        93\n",
            "           1       1.00      0.48      0.64       141\n",
            "\n",
            "    accuracy                           0.68       234\n",
            "   macro avg       0.78      0.74      0.68       234\n",
            "weighted avg       0.82      0.68      0.67       234\n",
            "\n",
            "Confusion Matrix:\n",
            "[[93  0]\n",
            " [74 67]]\n"
          ]
        }
      ],
      "source": [
        "\n",
        "# Fit Random Forest on SMOTE data\n",
        "\n",
        "rf_smote = RandomForestClassifier(random_state=42)\n",
        "\n",
        "grid_rf_smote = GridSearchCV(rf_smote, param_grid_rf, cv=5, scoring='accuracy', n_jobs=-1)\n",
        "grid_rf_smote.fit(X_train_s_scaled, y_train_smote_encoded.values.ravel())\n",
        "\n",
        "print(\"\\nBest parameters for SMOTE data RF:\", grid_rf_smote.best_params_)\n",
        "print(\"Best CV accuracy for SMOTE data RF:\", grid_rf_smote.best_score_)\n",
        "\n",
        "# Predictions and evaluation\n",
        "\n",
        "# On training (SMOTE) data\n",
        "y_pred_rf_smote_train = grid_rf_smote.predict(X_train_s_scaled)\n",
        "print(\"\\nClassification report for SMOTE training data RF:\")\n",
        "print(classification_report(y_train_smote_encoded, y_pred_rf_smote_train))\n",
        "print(\"Confusion Matrix:\")\n",
        "print(confusion_matrix(y_train_smote_encoded, y_pred_rf_smote_train))\n",
        "\n",
        "# On test data\n",
        "y_pred_rf_smote = grid_rf_smote.predict(X_test)\n",
        "print(\"\\nClassification report for SMOTE test data RF:\")\n",
        "print(classification_report(y_test_encoded, y_pred_rf_smote))\n",
        "print(\"Confusion Matrix:\")\n",
        "print(confusion_matrix(y_test_encoded, y_pred_rf_smote))"
      ]
    },
    {
      "cell_type": "markdown",
      "metadata": {},
      "source": [
        "### XGBoost "
      ]
    },
    {
      "cell_type": "code",
      "execution_count": 100,
      "metadata": {},
      "outputs": [],
      "source": [
        "from xgboost import XGBClassifier\n",
        "from sklearn.model_selection import GridSearchCV\n",
        "from sklearn.metrics import classification_report, confusion_matrix, accuracy_score\n",
        "\n",
        "# Define hyperparameter grid for XGBoost\n",
        "\n",
        "param_grid_xgb = {\n",
        "    'n_estimators': [100, 200, 500],\n",
        "    'max_depth': [3, 5, 7],\n",
        "    'learning_rate': [0.01, 0.1, 0.2],\n",
        "    'subsample': [0.7, 0.8, 1.0],\n",
        "    'colsample_bytree': [0.7, 0.8, 1.0]\n",
        "}"
      ]
    },
    {
      "cell_type": "code",
      "execution_count": 101,
      "metadata": {},
      "outputs": [
        {
          "name": "stdout",
          "output_type": "stream",
          "text": [
            "Best parameters for original data XGBoost: {'colsample_bytree': 0.8, 'learning_rate': 0.2, 'max_depth': 3, 'n_estimators': 500, 'subsample': 0.8}\n",
            "Best CV accuracy for original data XGBoost: 0.9935828877005347\n",
            "\n",
            "Classification report for original training data XGBoost:\n",
            "              precision    recall  f1-score   support\n",
            "\n",
            "           0       1.00      1.00      1.00       380\n",
            "           1       1.00      1.00      1.00       555\n",
            "\n",
            "    accuracy                           1.00       935\n",
            "   macro avg       1.00      1.00      1.00       935\n",
            "weighted avg       1.00      1.00      1.00       935\n",
            "\n",
            "Confusion Matrix:\n",
            "[[380   0]\n",
            " [  0 555]]\n",
            "\n",
            "Classification report for original test data XGBoost:\n",
            "              precision    recall  f1-score   support\n",
            "\n",
            "           0       0.98      0.94      0.96        93\n",
            "           1       0.96      0.99      0.97       141\n",
            "\n",
            "    accuracy                           0.97       234\n",
            "   macro avg       0.97      0.96      0.96       234\n",
            "weighted avg       0.97      0.97      0.97       234\n",
            "\n",
            "Confusion Matrix:\n",
            "[[ 87   6]\n",
            " [  2 139]]\n"
          ]
        }
      ],
      "source": [
        "\n",
        "# Fit XGBoost on original data\n",
        "\n",
        "xgb_orig = XGBClassifier(use_label_encoder=False, eval_metric='mlogloss', random_state=42)\n",
        "\n",
        "grid_xgb_orig = GridSearchCV(xgb_orig, param_grid_xgb, cv=5, scoring='accuracy', n_jobs=-1)\n",
        "grid_xgb_orig.fit(X_train_scaled, y_train_encoded.values.ravel())\n",
        "\n",
        "print(\"Best parameters for original data XGBoost:\", grid_xgb_orig.best_params_)\n",
        "print(\"Best CV accuracy for original data XGBoost:\", grid_xgb_orig.best_score_)\n",
        "\n",
        "# Predictions and evaluation\n",
        "\n",
        "# On training data\n",
        "y_pred_xgb_orig_train = grid_xgb_orig.predict(X_train_scaled)\n",
        "print(\"\\nClassification report for original training data XGBoost:\")\n",
        "print(classification_report(y_train_encoded, y_pred_xgb_orig_train))\n",
        "print(\"Confusion Matrix:\")\n",
        "print(confusion_matrix(y_train_encoded, y_pred_xgb_orig_train))\n",
        "\n",
        "# On test data\n",
        "y_pred_xgb_orig = grid_xgb_orig.predict(X_test)\n",
        "print(\"\\nClassification report for original test data XGBoost:\")\n",
        "print(classification_report(y_test_encoded, y_pred_xgb_orig))\n",
        "print(\"Confusion Matrix:\")\n",
        "print(confusion_matrix(y_test_encoded, y_pred_xgb_orig))"
      ]
    },
    {
      "cell_type": "code",
      "execution_count": 102,
      "metadata": {},
      "outputs": [
        {
          "name": "stdout",
          "output_type": "stream",
          "text": [
            "\n",
            "Best parameters for SMOTE data XGBoost: {'colsample_bytree': 0.7, 'learning_rate': 0.2, 'max_depth': 7, 'n_estimators': 500, 'subsample': 0.8}\n",
            "Best CV accuracy for SMOTE data XGBoost: 0.990990990990991\n",
            "\n",
            "Classification report for SMOTE training data XGBoost:\n",
            "              precision    recall  f1-score   support\n",
            "\n",
            "           0       1.00      1.00      1.00       555\n",
            "           1       1.00      1.00      1.00       555\n",
            "\n",
            "    accuracy                           1.00      1110\n",
            "   macro avg       1.00      1.00      1.00      1110\n",
            "weighted avg       1.00      1.00      1.00      1110\n",
            "\n",
            "Confusion Matrix:\n",
            "[[555   0]\n",
            " [  0 555]]\n",
            "\n",
            "Classification report for SMOTE test data XGBoost:\n",
            "              precision    recall  f1-score   support\n",
            "\n",
            "           0       0.46      0.99      0.63        93\n",
            "           1       0.97      0.23      0.38       141\n",
            "\n",
            "    accuracy                           0.53       234\n",
            "   macro avg       0.72      0.61      0.50       234\n",
            "weighted avg       0.77      0.53      0.48       234\n",
            "\n",
            "Confusion Matrix:\n",
            "[[ 92   1]\n",
            " [108  33]]\n"
          ]
        }
      ],
      "source": [
        "\n",
        "# Fit XGBoost on SMOTE data\n",
        "\n",
        "xgb_smote = XGBClassifier(use_label_encoder=False, eval_metric='mlogloss', random_state=42)\n",
        "\n",
        "grid_xgb_smote = GridSearchCV(xgb_smote, param_grid_xgb, cv=5, scoring='accuracy', n_jobs=-1)\n",
        "grid_xgb_smote.fit(X_train_s_scaled, y_train_smote_encoded.values.ravel())\n",
        "\n",
        "print(\"\\nBest parameters for SMOTE data XGBoost:\", grid_xgb_smote.best_params_)\n",
        "print(\"Best CV accuracy for SMOTE data XGBoost:\", grid_xgb_smote.best_score_)\n",
        "\n",
        "# Predictions and evaluation\n",
        "\n",
        "# On training (SMOTE) data\n",
        "y_pred_xgb_smote_train = grid_xgb_smote.predict(X_train_s_scaled)\n",
        "print(\"\\nClassification report for SMOTE training data XGBoost:\")\n",
        "print(classification_report(y_train_smote_encoded, y_pred_xgb_smote_train))\n",
        "print(\"Confusion Matrix:\")\n",
        "print(confusion_matrix(y_train_smote_encoded, y_pred_xgb_smote_train))\n",
        "\n",
        "# On test data\n",
        "y_pred_xgb_smote = grid_xgb_smote.predict(X_test)\n",
        "print(\"\\nClassification report for SMOTE test data XGBoost:\")\n",
        "print(classification_report(y_test_encoded, y_pred_xgb_smote))\n",
        "print(\"Confusion Matrix:\")\n",
        "print(confusion_matrix(y_test_encoded, y_pred_xgb_smote))"
      ]
    },
    {
      "cell_type": "markdown",
      "metadata": {},
      "source": [
        "## Stacking "
      ]
    },
    {
      "cell_type": "markdown",
      "metadata": {},
      "source": [
        "#### RF\n",
        "- train acc=0.96\n",
        "- test acc=0.95\n",
        "#### SVM\n",
        "- train acc=0.98\n",
        "- test acc=0.97\n",
        "#### lasso\n",
        "- train acc=0.97\n",
        "- test acc=0.98\n",
        "\n",
        "#### combine RF + SVM as base learners and use Lasso as the meta (final) model"
      ]
    },
    {
      "cell_type": "code",
      "execution_count": 103,
      "metadata": {},
      "outputs": [
        {
          "name": "stdout",
          "output_type": "stream",
          "text": [
            "\n",
            "Classification Report (Train - Stacking):\n",
            "              precision    recall  f1-score   support\n",
            "\n",
            "           0       0.97      0.98      0.98       380\n",
            "           1       0.99      0.98      0.98       555\n",
            "\n",
            "    accuracy                           0.98       935\n",
            "   macro avg       0.98      0.98      0.98       935\n",
            "weighted avg       0.98      0.98      0.98       935\n",
            "\n",
            "\n",
            "Classification Report (Test - Stacking):\n",
            "              precision    recall  f1-score   support\n",
            "\n",
            "           0       0.97      0.99      0.98        93\n",
            "           1       0.99      0.98      0.99       141\n",
            "\n",
            "    accuracy                           0.98       234\n",
            "   macro avg       0.98      0.98      0.98       234\n",
            "weighted avg       0.98      0.98      0.98       234\n",
            "\n",
            "Confusion Matrix (Test - Stacking):\n",
            "[[ 92   1]\n",
            " [  3 138]]\n"
          ]
        }
      ],
      "source": [
        "from sklearn.ensemble import StackingClassifier\n",
        "from sklearn.linear_model import LogisticRegression\n",
        "from sklearn.pipeline import Pipeline\n",
        "from sklearn.preprocessing import StandardScaler\n",
        "\n",
        "# Base models\n",
        "rf = RandomForestClassifier(\n",
        "    n_estimators=50, max_depth=2, min_samples_split=2,\n",
        "    min_samples_leaf=1, max_features='sqrt', random_state=42\n",
        ")\n",
        "\n",
        "svm = Pipeline([\n",
        "    ('scaler', StandardScaler()),   \n",
        "    ('svm', SVC(C=1, kernel='rbf', gamma='scale', probability=True, random_state=42))\n",
        "])\n",
        "\n",
        "# Final estimator (Lasso Logistic Regression)\n",
        "lasso_final = LogisticRegression(\n",
        "    penalty='l1', solver='liblinear', C=1.0, random_state=42, max_iter=1000\n",
        ")\n",
        "\n",
        "# Build stacking classifier\n",
        "stack_clf = StackingClassifier(\n",
        "    estimators=[('rf', rf), ('svm', svm)],\n",
        "    final_estimator=lasso_final,\n",
        "    cv=5,\n",
        "    n_jobs=-1,\n",
        "    passthrough=False   # set True if you want to include original features too\n",
        ")\n",
        "\n",
        "# Fit on training data (use your preprocessed X_train, y_train)\n",
        "stack_clf.fit(X_train_scaled, y_train_encoded.values.ravel())\n",
        "\n",
        "# Predictions\n",
        "y_pred_train = stack_clf.predict(X_train_scaled)\n",
        "y_pred_test = stack_clf.predict(X_test)\n",
        "\n",
        "# Evaluation\n",
        "print(\"\\nClassification Report (Train - Stacking):\")\n",
        "print(classification_report(y_train_encoded, y_pred_train))\n",
        "\n",
        "print(\"\\nClassification Report (Test - Stacking):\")\n",
        "print(classification_report(y_test_encoded, y_pred_test))\n",
        "\n",
        "print(\"Confusion Matrix (Test - Stacking):\")\n",
        "print(confusion_matrix(y_test_encoded, y_pred_test))"
      ]
    },
    {
      "cell_type": "markdown",
      "metadata": {},
      "source": [
        "### ---------------------------------------------- END ----------------------------------------------------------------------------"
      ]
    }
  ],
  "metadata": {
    "colab": {
      "provenance": []
    },
    "kernelspec": {
      "display_name": "Python 3",
      "name": "python3"
    },
    "language_info": {
      "codemirror_mode": {
        "name": "ipython",
        "version": 3
      },
      "file_extension": ".py",
      "mimetype": "text/x-python",
      "name": "python",
      "nbconvert_exporter": "python",
      "pygments_lexer": "ipython3",
      "version": "3.12.4"
    }
  },
  "nbformat": 4,
  "nbformat_minor": 0
}
